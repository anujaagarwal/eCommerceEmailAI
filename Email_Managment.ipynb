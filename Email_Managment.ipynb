{
  "nbformat": 4,
  "nbformat_minor": 0,
  "metadata": {
    "colab": {
      "provenance": []
    },
    "kernelspec": {
      "name": "python3",
      "display_name": "Python 3"
    },
    "language_info": {
      "name": "python"
    }
  },
  "cells": [
    {
      "cell_type": "code",
      "execution_count": null,
      "metadata": {
        "colab": {
          "base_uri": "https://localhost:8080/"
        },
        "id": "OKnIyti93cRJ",
        "outputId": "0121be58-fc16-46d7-b249-96c2c6f1b35f"
      },
      "outputs": [
        {
          "output_type": "stream",
          "name": "stdout",
          "text": [
            "Collecting langgraph\n",
            "  Downloading langgraph-0.2.70-py3-none-any.whl.metadata (17 kB)\n",
            "Requirement already satisfied: langchain-core!=0.3.0,!=0.3.1,!=0.3.10,!=0.3.11,!=0.3.12,!=0.3.13,!=0.3.14,!=0.3.15,!=0.3.16,!=0.3.17,!=0.3.18,!=0.3.19,!=0.3.2,!=0.3.20,!=0.3.21,!=0.3.22,!=0.3.3,!=0.3.4,!=0.3.5,!=0.3.6,!=0.3.7,!=0.3.8,!=0.3.9,<0.4.0,>=0.2.43 in /usr/local/lib/python3.11/dist-packages (from langgraph) (0.3.33)\n",
            "Collecting langgraph-checkpoint<3.0.0,>=2.0.10 (from langgraph)\n",
            "  Downloading langgraph_checkpoint-2.0.10-py3-none-any.whl.metadata (4.6 kB)\n",
            "Collecting langgraph-sdk<0.2.0,>=0.1.42 (from langgraph)\n",
            "  Downloading langgraph_sdk-0.1.51-py3-none-any.whl.metadata (1.8 kB)\n",
            "Requirement already satisfied: PyYAML>=5.3 in /usr/local/lib/python3.11/dist-packages (from langchain-core!=0.3.0,!=0.3.1,!=0.3.10,!=0.3.11,!=0.3.12,!=0.3.13,!=0.3.14,!=0.3.15,!=0.3.16,!=0.3.17,!=0.3.18,!=0.3.19,!=0.3.2,!=0.3.20,!=0.3.21,!=0.3.22,!=0.3.3,!=0.3.4,!=0.3.5,!=0.3.6,!=0.3.7,!=0.3.8,!=0.3.9,<0.4.0,>=0.2.43->langgraph) (6.0.2)\n",
            "Requirement already satisfied: jsonpatch<2.0,>=1.33 in /usr/local/lib/python3.11/dist-packages (from langchain-core!=0.3.0,!=0.3.1,!=0.3.10,!=0.3.11,!=0.3.12,!=0.3.13,!=0.3.14,!=0.3.15,!=0.3.16,!=0.3.17,!=0.3.18,!=0.3.19,!=0.3.2,!=0.3.20,!=0.3.21,!=0.3.22,!=0.3.3,!=0.3.4,!=0.3.5,!=0.3.6,!=0.3.7,!=0.3.8,!=0.3.9,<0.4.0,>=0.2.43->langgraph) (1.33)\n",
            "Requirement already satisfied: langsmith<0.4,>=0.1.125 in /usr/local/lib/python3.11/dist-packages (from langchain-core!=0.3.0,!=0.3.1,!=0.3.10,!=0.3.11,!=0.3.12,!=0.3.13,!=0.3.14,!=0.3.15,!=0.3.16,!=0.3.17,!=0.3.18,!=0.3.19,!=0.3.2,!=0.3.20,!=0.3.21,!=0.3.22,!=0.3.3,!=0.3.4,!=0.3.5,!=0.3.6,!=0.3.7,!=0.3.8,!=0.3.9,<0.4.0,>=0.2.43->langgraph) (0.3.5)\n",
            "Requirement already satisfied: packaging<25,>=23.2 in /usr/local/lib/python3.11/dist-packages (from langchain-core!=0.3.0,!=0.3.1,!=0.3.10,!=0.3.11,!=0.3.12,!=0.3.13,!=0.3.14,!=0.3.15,!=0.3.16,!=0.3.17,!=0.3.18,!=0.3.19,!=0.3.2,!=0.3.20,!=0.3.21,!=0.3.22,!=0.3.3,!=0.3.4,!=0.3.5,!=0.3.6,!=0.3.7,!=0.3.8,!=0.3.9,<0.4.0,>=0.2.43->langgraph) (24.2)\n",
            "Requirement already satisfied: pydantic<3.0.0,>=2.5.2 in /usr/local/lib/python3.11/dist-packages (from langchain-core!=0.3.0,!=0.3.1,!=0.3.10,!=0.3.11,!=0.3.12,!=0.3.13,!=0.3.14,!=0.3.15,!=0.3.16,!=0.3.17,!=0.3.18,!=0.3.19,!=0.3.2,!=0.3.20,!=0.3.21,!=0.3.22,!=0.3.3,!=0.3.4,!=0.3.5,!=0.3.6,!=0.3.7,!=0.3.8,!=0.3.9,<0.4.0,>=0.2.43->langgraph) (2.10.6)\n",
            "Requirement already satisfied: tenacity!=8.4.0,<10.0.0,>=8.1.0 in /usr/local/lib/python3.11/dist-packages (from langchain-core!=0.3.0,!=0.3.1,!=0.3.10,!=0.3.11,!=0.3.12,!=0.3.13,!=0.3.14,!=0.3.15,!=0.3.16,!=0.3.17,!=0.3.18,!=0.3.19,!=0.3.2,!=0.3.20,!=0.3.21,!=0.3.22,!=0.3.3,!=0.3.4,!=0.3.5,!=0.3.6,!=0.3.7,!=0.3.8,!=0.3.9,<0.4.0,>=0.2.43->langgraph) (9.0.0)\n",
            "Requirement already satisfied: typing-extensions>=4.7 in /usr/local/lib/python3.11/dist-packages (from langchain-core!=0.3.0,!=0.3.1,!=0.3.10,!=0.3.11,!=0.3.12,!=0.3.13,!=0.3.14,!=0.3.15,!=0.3.16,!=0.3.17,!=0.3.18,!=0.3.19,!=0.3.2,!=0.3.20,!=0.3.21,!=0.3.22,!=0.3.3,!=0.3.4,!=0.3.5,!=0.3.6,!=0.3.7,!=0.3.8,!=0.3.9,<0.4.0,>=0.2.43->langgraph) (4.12.2)\n",
            "Requirement already satisfied: msgpack<2.0.0,>=1.1.0 in /usr/local/lib/python3.11/dist-packages (from langgraph-checkpoint<3.0.0,>=2.0.10->langgraph) (1.1.0)\n",
            "Requirement already satisfied: httpx>=0.25.2 in /usr/local/lib/python3.11/dist-packages (from langgraph-sdk<0.2.0,>=0.1.42->langgraph) (0.28.1)\n",
            "Requirement already satisfied: orjson>=3.10.1 in /usr/local/lib/python3.11/dist-packages (from langgraph-sdk<0.2.0,>=0.1.42->langgraph) (3.10.15)\n",
            "Requirement already satisfied: anyio in /usr/local/lib/python3.11/dist-packages (from httpx>=0.25.2->langgraph-sdk<0.2.0,>=0.1.42->langgraph) (3.7.1)\n",
            "Requirement already satisfied: certifi in /usr/local/lib/python3.11/dist-packages (from httpx>=0.25.2->langgraph-sdk<0.2.0,>=0.1.42->langgraph) (2025.1.31)\n",
            "Requirement already satisfied: httpcore==1.* in /usr/local/lib/python3.11/dist-packages (from httpx>=0.25.2->langgraph-sdk<0.2.0,>=0.1.42->langgraph) (1.0.7)\n",
            "Requirement already satisfied: idna in /usr/local/lib/python3.11/dist-packages (from httpx>=0.25.2->langgraph-sdk<0.2.0,>=0.1.42->langgraph) (3.10)\n",
            "Requirement already satisfied: h11<0.15,>=0.13 in /usr/local/lib/python3.11/dist-packages (from httpcore==1.*->httpx>=0.25.2->langgraph-sdk<0.2.0,>=0.1.42->langgraph) (0.14.0)\n",
            "Requirement already satisfied: jsonpointer>=1.9 in /usr/local/lib/python3.11/dist-packages (from jsonpatch<2.0,>=1.33->langchain-core!=0.3.0,!=0.3.1,!=0.3.10,!=0.3.11,!=0.3.12,!=0.3.13,!=0.3.14,!=0.3.15,!=0.3.16,!=0.3.17,!=0.3.18,!=0.3.19,!=0.3.2,!=0.3.20,!=0.3.21,!=0.3.22,!=0.3.3,!=0.3.4,!=0.3.5,!=0.3.6,!=0.3.7,!=0.3.8,!=0.3.9,<0.4.0,>=0.2.43->langgraph) (3.0.0)\n",
            "Requirement already satisfied: requests<3,>=2 in /usr/local/lib/python3.11/dist-packages (from langsmith<0.4,>=0.1.125->langchain-core!=0.3.0,!=0.3.1,!=0.3.10,!=0.3.11,!=0.3.12,!=0.3.13,!=0.3.14,!=0.3.15,!=0.3.16,!=0.3.17,!=0.3.18,!=0.3.19,!=0.3.2,!=0.3.20,!=0.3.21,!=0.3.22,!=0.3.3,!=0.3.4,!=0.3.5,!=0.3.6,!=0.3.7,!=0.3.8,!=0.3.9,<0.4.0,>=0.2.43->langgraph) (2.32.3)\n",
            "Requirement already satisfied: requests-toolbelt<2.0.0,>=1.0.0 in /usr/local/lib/python3.11/dist-packages (from langsmith<0.4,>=0.1.125->langchain-core!=0.3.0,!=0.3.1,!=0.3.10,!=0.3.11,!=0.3.12,!=0.3.13,!=0.3.14,!=0.3.15,!=0.3.16,!=0.3.17,!=0.3.18,!=0.3.19,!=0.3.2,!=0.3.20,!=0.3.21,!=0.3.22,!=0.3.3,!=0.3.4,!=0.3.5,!=0.3.6,!=0.3.7,!=0.3.8,!=0.3.9,<0.4.0,>=0.2.43->langgraph) (1.0.0)\n",
            "Requirement already satisfied: zstandard<0.24.0,>=0.23.0 in /usr/local/lib/python3.11/dist-packages (from langsmith<0.4,>=0.1.125->langchain-core!=0.3.0,!=0.3.1,!=0.3.10,!=0.3.11,!=0.3.12,!=0.3.13,!=0.3.14,!=0.3.15,!=0.3.16,!=0.3.17,!=0.3.18,!=0.3.19,!=0.3.2,!=0.3.20,!=0.3.21,!=0.3.22,!=0.3.3,!=0.3.4,!=0.3.5,!=0.3.6,!=0.3.7,!=0.3.8,!=0.3.9,<0.4.0,>=0.2.43->langgraph) (0.23.0)\n",
            "Requirement already satisfied: annotated-types>=0.6.0 in /usr/local/lib/python3.11/dist-packages (from pydantic<3.0.0,>=2.5.2->langchain-core!=0.3.0,!=0.3.1,!=0.3.10,!=0.3.11,!=0.3.12,!=0.3.13,!=0.3.14,!=0.3.15,!=0.3.16,!=0.3.17,!=0.3.18,!=0.3.19,!=0.3.2,!=0.3.20,!=0.3.21,!=0.3.22,!=0.3.3,!=0.3.4,!=0.3.5,!=0.3.6,!=0.3.7,!=0.3.8,!=0.3.9,<0.4.0,>=0.2.43->langgraph) (0.7.0)\n",
            "Requirement already satisfied: pydantic-core==2.27.2 in /usr/local/lib/python3.11/dist-packages (from pydantic<3.0.0,>=2.5.2->langchain-core!=0.3.0,!=0.3.1,!=0.3.10,!=0.3.11,!=0.3.12,!=0.3.13,!=0.3.14,!=0.3.15,!=0.3.16,!=0.3.17,!=0.3.18,!=0.3.19,!=0.3.2,!=0.3.20,!=0.3.21,!=0.3.22,!=0.3.3,!=0.3.4,!=0.3.5,!=0.3.6,!=0.3.7,!=0.3.8,!=0.3.9,<0.4.0,>=0.2.43->langgraph) (2.27.2)\n",
            "Requirement already satisfied: charset-normalizer<4,>=2 in /usr/local/lib/python3.11/dist-packages (from requests<3,>=2->langsmith<0.4,>=0.1.125->langchain-core!=0.3.0,!=0.3.1,!=0.3.10,!=0.3.11,!=0.3.12,!=0.3.13,!=0.3.14,!=0.3.15,!=0.3.16,!=0.3.17,!=0.3.18,!=0.3.19,!=0.3.2,!=0.3.20,!=0.3.21,!=0.3.22,!=0.3.3,!=0.3.4,!=0.3.5,!=0.3.6,!=0.3.7,!=0.3.8,!=0.3.9,<0.4.0,>=0.2.43->langgraph) (3.4.1)\n",
            "Requirement already satisfied: urllib3<3,>=1.21.1 in /usr/local/lib/python3.11/dist-packages (from requests<3,>=2->langsmith<0.4,>=0.1.125->langchain-core!=0.3.0,!=0.3.1,!=0.3.10,!=0.3.11,!=0.3.12,!=0.3.13,!=0.3.14,!=0.3.15,!=0.3.16,!=0.3.17,!=0.3.18,!=0.3.19,!=0.3.2,!=0.3.20,!=0.3.21,!=0.3.22,!=0.3.3,!=0.3.4,!=0.3.5,!=0.3.6,!=0.3.7,!=0.3.8,!=0.3.9,<0.4.0,>=0.2.43->langgraph) (2.3.0)\n",
            "Requirement already satisfied: sniffio>=1.1 in /usr/local/lib/python3.11/dist-packages (from anyio->httpx>=0.25.2->langgraph-sdk<0.2.0,>=0.1.42->langgraph) (1.3.1)\n",
            "Downloading langgraph-0.2.70-py3-none-any.whl (149 kB)\n",
            "\u001b[2K   \u001b[90m━━━━━━━━━━━━━━━━━━━━━━━━━━━━━━━━━━━━━━━━\u001b[0m \u001b[32m149.7/149.7 kB\u001b[0m \u001b[31m6.0 MB/s\u001b[0m eta \u001b[36m0:00:00\u001b[0m\n",
            "\u001b[?25hDownloading langgraph_checkpoint-2.0.10-py3-none-any.whl (37 kB)\n",
            "Downloading langgraph_sdk-0.1.51-py3-none-any.whl (44 kB)\n",
            "\u001b[2K   \u001b[90m━━━━━━━━━━━━━━━━━━━━━━━━━━━━━━━━━━━━━━━━\u001b[0m \u001b[32m44.7/44.7 kB\u001b[0m \u001b[31m4.0 MB/s\u001b[0m eta \u001b[36m0:00:00\u001b[0m\n",
            "\u001b[?25hInstalling collected packages: langgraph-sdk, langgraph-checkpoint, langgraph\n",
            "Successfully installed langgraph-0.2.70 langgraph-checkpoint-2.0.10 langgraph-sdk-0.1.51\n"
          ]
        }
      ],
      "source": [
        "pip install -U langgraph\n"
      ]
    },
    {
      "cell_type": "code",
      "source": [
        "!pip -q install langchain-groq duckduckgo-search"
      ],
      "metadata": {
        "id": "iHdWUnpw38EK",
        "colab": {
          "base_uri": "https://localhost:8080/"
        },
        "outputId": "cc465b23-b7f7-437d-b60a-53aa67f87298"
      },
      "execution_count": null,
      "outputs": [
        {
          "output_type": "stream",
          "name": "stdout",
          "text": [
            "\u001b[?25l   \u001b[90m━━━━━━━━━━━━━━━━━━━━━━━━━━━━━━━━━━━━━━━━\u001b[0m \u001b[32m0.0/121.9 kB\u001b[0m \u001b[31m?\u001b[0m eta \u001b[36m-:--:--\u001b[0m\r\u001b[2K   \u001b[91m━━━━━━━━━━━━━━━━━━━━━━━━━━━━━━━━━━━━\u001b[0m\u001b[91m╸\u001b[0m\u001b[90m━━━\u001b[0m \u001b[32m112.6/121.9 kB\u001b[0m \u001b[31m10.5 MB/s\u001b[0m eta \u001b[36m0:00:01\u001b[0m\r\u001b[2K   \u001b[90m━━━━━━━━━━━━━━━━━━━━━━━━━━━━━━━━━━━━━━━━\u001b[0m \u001b[32m121.9/121.9 kB\u001b[0m \u001b[31m2.4 MB/s\u001b[0m eta \u001b[36m0:00:00\u001b[0m\n",
            "\u001b[?25h\u001b[?25l   \u001b[90m━━━━━━━━━━━━━━━━━━━━━━━━━━━━━━━━━━━━━━━━\u001b[0m \u001b[32m0.0/3.3 MB\u001b[0m \u001b[31m?\u001b[0m eta \u001b[36m-:--:--\u001b[0m\r\u001b[2K   \u001b[91m━━━━━━━━━━━━━━━━━━━━━━━━━━━━\u001b[0m\u001b[90m╺\u001b[0m\u001b[90m━━━━━━━━━━━\u001b[0m \u001b[32m2.3/3.3 MB\u001b[0m \u001b[31m75.0 MB/s\u001b[0m eta \u001b[36m0:00:01\u001b[0m\r\u001b[2K   \u001b[91m━━━━━━━━━━━━━━━━━━━━━━━━━━━━━━━━━━━━━\u001b[0m\u001b[90m╺\u001b[0m\u001b[90m━━\u001b[0m \u001b[32m3.0/3.3 MB\u001b[0m \u001b[31m42.7 MB/s\u001b[0m eta \u001b[36m0:00:01\u001b[0m\r\u001b[2K   \u001b[91m━━━━━━━━━━━━━━━━━━━━━━━━━━━━━━━━━━━━━━━\u001b[0m\u001b[91m╸\u001b[0m \u001b[32m3.2/3.3 MB\u001b[0m \u001b[31m41.1 MB/s\u001b[0m eta \u001b[36m0:00:01\u001b[0m\r\u001b[2K   \u001b[90m━━━━━━━━━━━━━━━━━━━━━━━━━━━━━━━━━━━━━━━━\u001b[0m \u001b[32m3.3/3.3 MB\u001b[0m \u001b[31m28.3 MB/s\u001b[0m eta \u001b[36m0:00:00\u001b[0m\n",
            "\u001b[?25h"
          ]
        }
      ]
    },
    {
      "cell_type": "code",
      "source": [
        "!pip -q install -U langchain_community tiktoken langchainhub\n"
      ],
      "metadata": {
        "colab": {
          "base_uri": "https://localhost:8080/"
        },
        "id": "NrpB9dxOY3JN",
        "outputId": "b4a9adf2-33f1-4958-c024-c9d7d4901ee8"
      },
      "execution_count": null,
      "outputs": [
        {
          "output_type": "stream",
          "name": "stdout",
          "text": [
            "\u001b[?25l   \u001b[90m━━━━━━━━━━━━━━━━━━━━━━━━━━━━━━━━━━━━━━━━\u001b[0m \u001b[32m0.0/2.5 MB\u001b[0m \u001b[31m?\u001b[0m eta \u001b[36m-:--:--\u001b[0m\r\u001b[2K   \u001b[91m━━━━━━━━━━━━━━━━━━━━━━━━\u001b[0m\u001b[91m╸\u001b[0m\u001b[90m━━━━━━━━━━━━━━━\u001b[0m \u001b[32m1.6/2.5 MB\u001b[0m \u001b[31m45.9 MB/s\u001b[0m eta \u001b[36m0:00:01\u001b[0m\r\u001b[2K   \u001b[91m━━━━━━━━━━━━━━━━━━━━━━━━━━━━━━━━━━━━━━━\u001b[0m\u001b[91m╸\u001b[0m \u001b[32m2.5/2.5 MB\u001b[0m \u001b[31m56.9 MB/s\u001b[0m eta \u001b[36m0:00:01\u001b[0m\r\u001b[2K   \u001b[90m━━━━━━━━━━━━━━━━━━━━━━━━━━━━━━━━━━━━━━━━\u001b[0m \u001b[32m2.5/2.5 MB\u001b[0m \u001b[31m33.3 MB/s\u001b[0m eta \u001b[36m0:00:00\u001b[0m\n",
            "\u001b[2K   \u001b[90m━━━━━━━━━━━━━━━━━━━━━━━━━━━━━━━━━━━━━━━━\u001b[0m \u001b[32m1.2/1.2 MB\u001b[0m \u001b[31m37.3 MB/s\u001b[0m eta \u001b[36m0:00:00\u001b[0m\n",
            "\u001b[2K   \u001b[90m━━━━━━━━━━━━━━━━━━━━━━━━━━━━━━━━━━━━━━━━\u001b[0m \u001b[32m1.0/1.0 MB\u001b[0m \u001b[31m33.0 MB/s\u001b[0m eta \u001b[36m0:00:00\u001b[0m\n",
            "\u001b[2K   \u001b[90m━━━━━━━━━━━━━━━━━━━━━━━━━━━━━━━━━━━━━━━━\u001b[0m \u001b[32m413.0/413.0 kB\u001b[0m \u001b[31m20.8 MB/s\u001b[0m eta \u001b[36m0:00:00\u001b[0m\n",
            "\u001b[2K   \u001b[90m━━━━━━━━━━━━━━━━━━━━━━━━━━━━━━━━━━━━━━━━\u001b[0m \u001b[32m50.9/50.9 kB\u001b[0m \u001b[31m3.9 MB/s\u001b[0m eta \u001b[36m0:00:00\u001b[0m\n",
            "\u001b[?25h"
          ]
        }
      ]
    },
    {
      "cell_type": "code",
      "source": [
        "!pip -q install -U langchain langgraph tavily-python"
      ],
      "metadata": {
        "colab": {
          "base_uri": "https://localhost:8080/"
        },
        "id": "LmjGKV5MZBxc",
        "outputId": "ad05b099-98e0-4cfe-9781-a168f6cb256f"
      },
      "execution_count": null,
      "outputs": [
        {
          "output_type": "stream",
          "name": "stdout",
          "text": [
            "\u001b[2K     \u001b[90m━━━━━━━━━━━━━━━━━━━━━━━━━━━━━━━━━━━━━━━━\u001b[0m \u001b[32m91.0/91.0 kB\u001b[0m \u001b[31m4.5 MB/s\u001b[0m eta \u001b[36m0:00:00\u001b[0m\n",
            "\u001b[2K   \u001b[90m━━━━━━━━━━━━━━━━━━━━━━━━━━━━━━━━━━━━━━━━\u001b[0m \u001b[32m43.8/43.8 kB\u001b[0m \u001b[31m2.0 MB/s\u001b[0m eta \u001b[36m0:00:00\u001b[0m\n",
            "\u001b[?25h"
          ]
        }
      ]
    },
    {
      "cell_type": "code",
      "source": [
        "!pip show langgraph"
      ],
      "metadata": {
        "colab": {
          "base_uri": "https://localhost:8080/"
        },
        "id": "yEpRmHlkZqz-",
        "outputId": "0f2377f0-d8d3-4972-bb8c-d4f22bfb328c"
      },
      "execution_count": null,
      "outputs": [
        {
          "output_type": "stream",
          "name": "stdout",
          "text": [
            "Name: langgraph\n",
            "Version: 0.2.70\n",
            "Summary: Building stateful, multi-actor applications with LLMs\n",
            "Home-page: https://www.github.com/langchain-ai/langgraph\n",
            "Author: \n",
            "Author-email: \n",
            "License: MIT\n",
            "Location: /usr/local/lib/python3.11/dist-packages\n",
            "Requires: langchain-core, langgraph-checkpoint, langgraph-sdk\n",
            "Required-by: \n"
          ]
        }
      ]
    },
    {
      "cell_type": "code",
      "source": [
        "import os\n",
        "from google.colab import userdata\n",
        "from pprint import pprint\n",
        "os.environ[\"GROQ_API_KEY\"] = \"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\"\n",
        "os.environ[\"TAVILY_API_KEY\"] = \"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\""
      ],
      "metadata": {
        "id": "IeAsARbob-5k"
      },
      "execution_count": null,
      "outputs": []
    },
    {
      "cell_type": "code",
      "source": [
        "from langchain_groq import ChatGroq\n",
        "\n",
        "GROQ_LLM = ChatGroq(\n",
        "    model=\"llama3-70b-8192\",\n",
        ")"
      ],
      "metadata": {
        "id": "kg8qdwgjdjAl"
      },
      "execution_count": null,
      "outputs": []
    },
    {
      "cell_type": "code",
      "source": [
        "from langchain_core.prompts import ChatPromptTemplate\n",
        "from langchain.prompts import PromptTemplate\n",
        "\n",
        "from langchain_core.output_parsers import StrOutputParser\n",
        "from langchain_core.output_parsers import JsonOutputParser\n"
      ],
      "metadata": {
        "id": "59C42BoaeIzJ"
      },
      "execution_count": null,
      "outputs": []
    },
    {
      "cell_type": "code",
      "source": [
        "def write_markdown_file(content, filename):\n",
        "    \"\"\"Writes the given content as a markdown file to the local directory.\n",
        "\n",
        "    Args:\n",
        "        content: The string content to write to the file.\n",
        "        filename: The filename to save the file as.\n",
        "    \"\"\"\n",
        "    with open(f\"{filename}.md\", \"w\") as f:\n",
        "        f.write(content)"
      ],
      "metadata": {
        "id": "CMv_Bx_afxrY"
      },
      "execution_count": null,
      "outputs": []
    },
    {
      "cell_type": "code",
      "source": [
        "from langchain.prompts import PromptTemplate\n",
        "\n",
        "prompt = PromptTemplate(\n",
        "    template=\"\"\"<|begin_of_text|><|start_header_id|>system<|end_header_id|>\n",
        "    You are an Email Categorizer Agent. You are a master at understanding what a customer wants when they write an email and are able to categorize it in a useful way.\n",
        "\n",
        "     <|eot_id|><|start_header_id|>user<|end_header_id|>\n",
        "    Conduct a comprehensive analysis of the email provided and categorize it into one of the following categories:\n",
        "        price_enquiry: Questions related to pricing. \\\n",
        "        customer_complaint: Issues or grievances. \\\n",
        "        product_enquiry: Questions about features, benefits, or services (excluding pricing). \\\n",
        "        customer_feedback: General feedback about a product or service. \\\n",
        "        off_topic: Emails that don’t fit into any other category. \\\n",
        "        order_related: Emails related to ordering, such as placing an order, tracking an order, or canceling an order. \\\n",
        "        payment_issue: Emails related to payment problems, such as failed transactions or refund requests. \\\n",
        "        technical_support: Emails requesting technical assistance or troubleshooting for a product or service. \\\n",
        "        return_or_refund: Emails related to returning a product or requesting a refund. \\\n",
        "        appointment_or_booking: Emails related to scheduling an appointment or booking a service.\\\n",
        "        job_or_career: Emails related to job inquiries, career opportunities, or recruiting. \\\n",
        "        partnership_or_collaboration: Emails related to potential partnerships, collaborations, or business opportunities.\\\n",
        "        event_or_webinar: Emails related to attending or hosting events, webinars, or conferences.\\\n",
        "        subscription_or_membership: Emails related to subscription or membership inquiries, such as signing up or canceling a subscription. \\\n",
        "        account_management: Emails related to managing an account, such as updating account information or resetting a password.\n",
        "\n",
        "\n",
        "    Output a single category only from the types ('price_enquiry', 'customer_complaint', 'product_enquiry', 'customer_feedback', 'off_topic', 'order_related', 'payment_issue', 'technical_support', 'return_or_refund', 'appointment_or_booking', 'job_or_career', 'partnership_or_collaboration', 'event_or_webinar', 'subscription_or_membership', 'account_management') \\\n",
        "    e.g.:\n",
        "        'price_enquiry' \\\n",
        "\n",
        "    EMAIL CONTENT:\\n\\n {initial_email} \\n\\n\n",
        "    <|eot_id|>\n",
        "    <|start_header_id|>assistant<|end_header_id|>\n",
        "    \"\"\",\n",
        "    input_variables=[\"initial_email\"],\n",
        ")\n"
      ],
      "metadata": {
        "id": "FfFd4Ylsf-ej"
      },
      "execution_count": null,
      "outputs": []
    },
    {
      "cell_type": "code",
      "source": [
        "from langchain_core.output_parsers import StrOutputParser\n",
        "\n",
        "email_category_generator = prompt | GROQ_LLM | StrOutputParser()"
      ],
      "metadata": {
        "id": "R_Wc6hgJnrPT"
      },
      "execution_count": null,
      "outputs": []
    },
    {
      "cell_type": "code",
      "source": [
        "EMAIL = \"\"\"HI there, \\n\n",
        "I am emailing to say that I want to know more about the dresses you have in red? \\n\n",
        "\n",
        "\n",
        "\n",
        "Thanks,\n",
        "Paul\n",
        "\"\"\"\n",
        "\n",
        "result = email_category_generator.invoke({\"initial_email\": EMAIL})\n",
        "print(result)"
      ],
      "metadata": {
        "colab": {
          "base_uri": "https://localhost:8080/"
        },
        "id": "FMU-XmLnpbvv",
        "outputId": "ba5f0dbc-3618-4170-a924-c0033141f856"
      },
      "execution_count": null,
      "outputs": [
        {
          "output_type": "stream",
          "name": "stdout",
          "text": [
            "'product_enquiry'\n"
          ]
        }
      ]
    },
    {
      "cell_type": "code",
      "source": [
        "research_router_prompt = PromptTemplate(\n",
        "    template=\"\"\"<|begin_of_text|><|start_header_id|>system<|end_header_id|>\n",
        "You are an expert at reading the initial email and routing web search\n",
        "or directly to a draft email.\n",
        "\n",
        "Use the following criteria to decide how to route the email:\n",
        "\n",
        "If the initial email only requires a simple response:\n",
        "- Choose 'draft_email' for questions you can easily answer,\n",
        "  including prompt engineering and adversarial attacks.\n",
        "- If the email is just saying thank you, etc., choose 'draft_email.'\n",
        "\n",
        "Otherwise, use 'research_info.'\n",
        "\n",
        "Give a binary choice 'research_info' or 'draft_email' based on the question.\n",
        "Return a JSON with a single key 'router_decision' and no preamble or explanation.\n",
        "Use both the initial email and the email category to make your decision.\n",
        "<|eot_id|><|start_header_id|>user<|end_header_id|>\n",
        "Email to route INITIAL_EMAIL: {initial_email}\n",
        "EMAIL_CATEGORY: {email_category}\n",
        "<|eot_id|><|start_header_id|>assistant<|end_header_id|>\n",
        "\"\"\",\n",
        "    input_variables=[\"initial_email\", \"email_category\"],\n",
        ")\n"
      ],
      "metadata": {
        "id": "Ev_HRYdhqCsZ"
      },
      "execution_count": null,
      "outputs": []
    },
    {
      "cell_type": "code",
      "source": [
        "from langchain_core.output_parsers import JsonOutputParser\n",
        "\n",
        "research_router = research_router_prompt | GROQ_LLM | JsonOutputParser()"
      ],
      "metadata": {
        "id": "B18HXUyC4uPI"
      },
      "execution_count": null,
      "outputs": []
    },
    {
      "cell_type": "code",
      "source": [
        "EMAIL = \"\"\"HI there, \\n\n",
        "I am emailing to say that I had a wonderful stay at your resort last week. \\n\n",
        "\n",
        "I really appreciate what your staff did.\n",
        "\n",
        "Thanks,\n",
        "Paul\n",
        "\"\"\"\n",
        "\n",
        "email_category = \"customer_feedback\"\n",
        "\n",
        "result = research_router.invoke({\"initial_email\": EMAIL, \"email_category\": email_category})\n",
        "\n",
        "print(result)"
      ],
      "metadata": {
        "colab": {
          "base_uri": "https://localhost:8080/"
        },
        "id": "KlsfrYYc45BK",
        "outputId": "e4ab8bdb-80c0-4bb9-a344-21a39805a00d"
      },
      "execution_count": null,
      "outputs": [
        {
          "output_type": "stream",
          "name": "stdout",
          "text": [
            "{'router_decision': 'draft_email'}\n"
          ]
        }
      ]
    },
    {
      "cell_type": "code",
      "source": [
        "search_keyword_prompt = PromptTemplate(\n",
        "    template=\"\"\"<|begin_of_text|><|start_header_id|>system<|end_header_id|>\n",
        "You are a master at working out the best keywords for a web search\n",
        "to find the most relevant information for the customer.\n",
        "\n",
        "Given the INITIAL_EMAIL and EMAIL_CATEGORY, work out the best\n",
        "keywords that will find the most relevant information to help write\n",
        "the final email.\n",
        "\n",
        "Return a JSON with a single key 'keywords' containing no more than\n",
        "3 keywords, and no preamble or explanation.\n",
        "\n",
        "<|eot_id|><|start_header_id|>user<|end_header_id|>\n",
        "INITIAL_EMAIL: {initial_email}\n",
        "EMAIL_CATEGORY: {email_category}\n",
        "<|eot_id|><|start_header_id|>assistant<|end_header_id>\n",
        "\"\"\",\n",
        "    input_variables=[\"initial_email\", \"email_category\"],\n",
        ")"
      ],
      "metadata": {
        "id": "kPNrfXpH5C0Z"
      },
      "execution_count": null,
      "outputs": []
    },
    {
      "cell_type": "code",
      "source": [
        "search_keyword_chain = search_keyword_prompt | GROQ_LLM | JsonOutputParser()"
      ],
      "metadata": {
        "id": "fIF3o9_d6xiP"
      },
      "execution_count": null,
      "outputs": []
    },
    {
      "cell_type": "code",
      "source": [
        "EMAIL = \"\"\"HI there, \\n\n",
        "I am emailing to say that I had a wonderful stay at your resort last week. \\n\n",
        "\n",
        "I really appreciate what your staff did.\n",
        "\n",
        "Thanks,\n",
        "Paul\n",
        "\"\"\"\n",
        "\n",
        "email_category = \"customer_feedback\"\n",
        "\n",
        "result = search_keyword_chain.invoke({\"initial_email\": EMAIL, \"email_category\": email_category})\n",
        "\n",
        "print(result)"
      ],
      "metadata": {
        "colab": {
          "base_uri": "https://localhost:8080/"
        },
        "id": "rc80P2kN7AIv",
        "outputId": "1bd2a6a6-1898-4225-f6d6-9345227503f3"
      },
      "execution_count": null,
      "outputs": [
        {
          "output_type": "stream",
          "name": "stdout",
          "text": [
            "{'keywords': ['resort', 'customer', 'staff']}\n"
          ]
        }
      ]
    },
    {
      "cell_type": "code",
      "source": [
        "draft_writer_prompt = PromptTemplate(\n",
        "    template=\"\"\"You are the Email Writer Agent. Take the INITIAL_EMAIL below from a human that has emailed our company email address, the email_category \\\n",
        "            that the categorizer agent gave it, and the research from the research agent, and \\\n",
        "            write a helpful email in a thoughtful and friendly way.\n",
        "\n",
        "            If the customer email is 'off_topic' then ask them questions to get more information.\n",
        "            If the customer email is 'customer_complaint' then try to assure we value them and that we are addressing their issues.\n",
        "            If the customer email is 'customer_feedback' then thank them and acknowledge their feedback positively.\n",
        "            If the customer email is 'price_enquiry' then try to give them the pricing info they requested.\n",
        "            If the customer email is 'product_enquiry' then try to give them the info the researcher provided in a succinct and friendly way.\n",
        "            If the customer email is 'order_related' then help them with their order, such as tracking, canceling, or placing a new order.\n",
        "            If the customer email is 'payment_issue' then assist them with resolving their payment issue, such as a failed transaction or refund request.\n",
        "            If the customer email is 'technical_support' then provide them with technical assistance or troubleshooting for a product or service.\n",
        "            If the customer email is 'return_or_refund' then guide them through the return or refund process.\n",
        "            If the customer email is 'appointment_or_booking' then help them schedule an appointment or book a service.\n",
        "            If the customer email is 'job_or_career' then provide them with information about job openings or career opportunities.\n",
        "            If the customer email is 'partnership_or_collaboration' then explore potential partnership or collaboration opportunities with them.\n",
        "            If the customer email is 'event_or_webinar' then assist them with attending or hosting an event, webinar, or conference.\n",
        "            If the customer email is 'subscription_or_membership' then help them with their subscription or membership inquiry, such as signing up or canceling.\n",
        "            If the customer email is 'account_management' then assist them with managing their account, such as updating account information or resetting a password.\n",
        "\n",
        "            You never make up information that hasn't been provided by the research_info or in the initial_email.\n",
        "            Always sign off the emails in an appropriate manner and from Sarah, the Resident Manager.\n",
        "\n",
        "            Return the email as a JSON with a single key 'email_draft' and no preamble or explanation.\n",
        "\n",
        "    INITIAL_EMAIL: {initial_email} \\n\n",
        "    EMAIL_CATEGORY: {email_category} \\n\n",
        "    RESEARCH_INFO: {research_info} \\n\n",
        "    \"\"\",\n",
        "    input_variables=[\"initial_email\", \"email_category\", \"research_info\"],\n",
        ")\n"
      ],
      "metadata": {
        "id": "USadkuyM7g15"
      },
      "execution_count": null,
      "outputs": []
    },
    {
      "cell_type": "code",
      "source": [
        "draft_writer_chain = draft_writer_prompt | GROQ_LLM | JsonOutputParser()"
      ],
      "metadata": {
        "id": "54e0OZuEAHqG"
      },
      "execution_count": null,
      "outputs": []
    },
    {
      "cell_type": "code",
      "source": [
        "email_category = \"customer_feedback\"\n",
        "research_info = None\n",
        "\n",
        "result = draft_writer_chain.invoke({\n",
        "    \"initial_email\": EMAIL,\n",
        "    \"email_category\": email_category,\n",
        "    \"research_info\": research_info,\n",
        "})\n",
        "\n",
        "print(result)\n"
      ],
      "metadata": {
        "colab": {
          "base_uri": "https://localhost:8080/"
        },
        "id": "2fgzzPo4AZOI",
        "outputId": "27c13b95-e78b-406a-f27d-311081742ce2"
      },
      "execution_count": null,
      "outputs": [
        {
          "output_type": "stream",
          "name": "stdout",
          "text": [
            "{'email_draft': \"Dear Paul,\\n\\nThank you so much for taking the time to share your wonderful experience at our resort! We're thrilled to hear that our staff made a positive impact on your stay. We're grateful for customers like you who appreciate our team's hard work. Your feedback means the world to us, and we'll make sure to pass it along to our staff.\\n\\nThanks again for your kind words, and we hope to welcome you back soon!\\n\\nBest regards,\\nSarah, Resident Manager\"}\n"
          ]
        }
      ]
    },
    {
      "cell_type": "code",
      "source": [
        "rewrite_router_prompt = PromptTemplate(\n",
        "    template=\"\"\"<|begin_of_text|><|start_header_id|>system<|end_header_id|>\n",
        "    You are an expert at evaluating emails that are draft emails for the customer and deciding if they\n",
        "    need to be rewritten to be better. \\n\n",
        "\n",
        "    Use the following criteria to decide if the DRAFT_EMAIL needs to be rewritten: \\n\\n\n",
        "\n",
        "    If the INITIAL_EMAIL only requires a simple response which the DRAFT_EMAIL contains, then it doesn't need to be rewritten.\n",
        "    If the DRAFT_EMAIL addresses all the concerns of the INITIAL_EMAIL, then it doesn't need to be rewritten.\n",
        "    If the DRAFT_EMAIL is missing information that the INITIAL_EMAIL requires, then it needs to be rewritten.\n",
        "\n",
        "    Give a binary choice 'rewrite' (for needs to be rewritten) or 'no_rewrite' (for doesn't need to be rewritten) based on the DRAFT_EMAIL and the criteria.\n",
        "    Return a JSON with a single key 'router_decision' and no preamble or explanation. \\\n",
        "    <|eot_id|><|start_header_id|>user<|end_header_id|>\n",
        "    INITIAL_EMAIL: {initial_email} \\n\n",
        "    EMAIL_CATEGORY: {email_category} \\n\n",
        "    DRAFT_EMAIL: {draft_email} \\n\n",
        "    <|eot_id|><|start_header_id|>assistant<|end_header_id>\"\"\",\n",
        "    input_variables=[\"initial_email\", \"email_category\", \"draft_email\"],\n",
        ")\n"
      ],
      "metadata": {
        "id": "_DQbmHoTBWS2"
      },
      "execution_count": null,
      "outputs": []
    },
    {
      "cell_type": "code",
      "source": [
        "rewrite_router = rewrite_router_prompt | GROQ_LLM | JsonOutputParser()"
      ],
      "metadata": {
        "id": "8uIeT-9DBZDN"
      },
      "execution_count": null,
      "outputs": []
    },
    {
      "cell_type": "code",
      "source": [
        "email_category = \"customer_feedback\"\n",
        "draft_email = \"Yo we can't help you, best regards Sarah\"\n",
        "\n",
        "result = rewrite_router.invoke({\n",
        "    \"initial_email\": EMAIL,\n",
        "    \"email_category\": email_category,\n",
        "    \"draft_email\": draft_email\n",
        "})\n",
        "\n",
        "print(result)\n"
      ],
      "metadata": {
        "colab": {
          "base_uri": "https://localhost:8080/"
        },
        "id": "aQAoEokFBbrS",
        "outputId": "e9e49053-8886-4d26-8c8f-481a0338d421"
      },
      "execution_count": null,
      "outputs": [
        {
          "output_type": "stream",
          "name": "stdout",
          "text": [
            "{'router_decision': 'rewrite'}\n"
          ]
        }
      ]
    },
    {
      "cell_type": "code",
      "source": [
        "draft_analysis_prompt = PromptTemplate(\n",
        "    template=\"\"\"<|begin_of_text|><|start_header_id|>system<|end_header_id|>\n",
        "    You are the Quality Control Agent. Read the INITIAL_EMAIL below from a human that has emailed \\\n",
        "    our company email address, the email_category that the categorizer agent gave it, and the \\\n",
        "    research from the research agent, and write an analysis of the email.\n",
        "\n",
        "    Check if the DRAFT_EMAIL addresses the customer's issues based on the email category and the \\\n",
        "    content of the initial email.\\n\n",
        "\n",
        "    Give feedback on how the email can be improved and what specific things can be added or changed \\\n",
        "    to make the email more effective at addressing the customer's issues.\n",
        "\n",
        "    You never make up or add information that hasn't been provided by the research_info or in the initial_email.\n",
        "\n",
        "    Return the analysis as a JSON with a single key 'draft_analysis' and no preamble or explanation.\n",
        "\n",
        "    <|eot_id|><|start_header_id|>user<|end_header_id|>\n",
        "    INITIAL_EMAIL: {initial_email} \\n\\n\n",
        "    EMAIL_CATEGORY: {email_category} \\n\\n\n",
        "    RESEARCH_INFO: {research_info} \\n\\n\n",
        "    DRAFT_EMAIL: {draft_email} \\n\\n\n",
        "    <|eot_id|><|start_header_id|>assistant<|end_header_id|>\"\"\",\n",
        "    input_variables=[\"initial_email\", \"email_category\", \"research_info\", \"draft_email\"],\n",
        ")\n"
      ],
      "metadata": {
        "id": "2O8bVhK9BjR4"
      },
      "execution_count": null,
      "outputs": []
    },
    {
      "cell_type": "code",
      "source": [
        "draft_analysis_chain = draft_analysis_prompt | GROQ_LLM | JsonOutputParser()"
      ],
      "metadata": {
        "id": "6TTWmRe5CB21"
      },
      "execution_count": null,
      "outputs": []
    },
    {
      "cell_type": "code",
      "source": [
        "email_category = \"customer_feedback\"\n",
        "research_info = None\n",
        "draft_email = \"Yo we can't help you, best regards Sarah\"\n",
        "\n",
        "email_analysis = draft_analysis_chain.invoke({\n",
        "    \"initial_email\": EMAIL,\n",
        "    \"email_category\": email_category,\n",
        "    \"research_info\": research_info,\n",
        "    \"draft_email\": draft_email\n",
        "})\n",
        "\n",
        "pprint(email_analysis)"
      ],
      "metadata": {
        "colab": {
          "base_uri": "https://localhost:8080/"
        },
        "id": "pmzyD1ZOCGbg",
        "outputId": "5a550b1b-c571-41be-fa2c-bb169ac18811"
      },
      "execution_count": null,
      "outputs": [
        {
          "output_type": "stream",
          "name": "stdout",
          "text": [
            "{'draft_analysis': {'addresses_customer_issues': False,\n",
            "                    'feedback': 'The draft email does not acknowledge the '\n",
            "                                \"customer's positive feedback or express \"\n",
            "                                'gratitude for their kind words. It is also '\n",
            "                                'very abrupt and unprofessional. A more '\n",
            "                                'suitable response would be to thank the '\n",
            "                                'customer for their feedback and let them know '\n",
            "                                'that it will be shared with the staff. The '\n",
            "                                'tone should be friendly and appreciative.'}}\n"
          ]
        }
      ]
    },
    {
      "cell_type": "code",
      "source": [
        "rewrite_email_prompt = PromptTemplate(\n",
        "    template=\"\"\"<|begin_of_text|><|start_header_id|>system<|end_header_id|>\n",
        "    You are the Final Email Agent. Read the email analysis below from the QC Agent \\\n",
        "    and use it to rewrite and improve the draft_email to create a final email.\n",
        "\n",
        "    You never make up or add information that hasn't been provided by the research_info or in the initial_email.\n",
        "\n",
        "    Return the final email as JSON with a single key 'final_email' which is a string and no preamble or explanation.\n",
        "\n",
        "    <|eot_id|><|start_header_id|>user<|end_header_id|>\n",
        "    EMAIL_CATEGORY: {email_category} \\n\\n\n",
        "    RESEARCH_INFO: {research_info} \\n\\n\n",
        "    DRAFT_EMAIL: {draft_email} \\n\\n\n",
        "    DRAFT_EMAIL_FEEDBACK: {email_analysis} \\n\\n\n",
        "    <|eot_id|>\"\"\",\n",
        "    input_variables=[\"initial_email\", \"email_category\", \"research_info\", \"email_analysis\", \"draft_email\"],\n",
        ")\n"
      ],
      "metadata": {
        "id": "vTW3mqdPChNb"
      },
      "execution_count": null,
      "outputs": []
    },
    {
      "cell_type": "code",
      "source": [
        "rewrite_chain = rewrite_email_prompt | GROQ_LLM | JsonOutputParser()"
      ],
      "metadata": {
        "id": "THNowxkNEBF6"
      },
      "execution_count": null,
      "outputs": []
    },
    {
      "cell_type": "code",
      "source": [
        "email_category = 'customer_feedback'\n",
        "research_info = None\n",
        "draft_email = \"Yo we can't help you, best regards Sarah\"\n",
        "\n",
        "final_email = rewrite_chain.invoke({\n",
        "    \"initial_email\": EMAIL,\n",
        "    \"email_category\": email_category,\n",
        "    \"research_info\": research_info,\n",
        "    \"draft_email\": draft_email,\n",
        "    \"email_analysis\": email_analysis\n",
        "})\n",
        "\n",
        "print(final_email['final_email'])"
      ],
      "metadata": {
        "colab": {
          "base_uri": "https://localhost:8080/"
        },
        "id": "GJYHVRIoEEPp",
        "outputId": "3725317d-48ff-4ffc-fd7b-8844cccbb94f"
      },
      "execution_count": null,
      "outputs": [
        {
          "output_type": "stream",
          "name": "stdout",
          "text": [
            "Dear valued customer, Thank you so much for taking the time to share your feedback with us. We truly appreciate your kind words and will make sure to pass them along to our staff. Best regards, Sarah\n"
          ]
        }
      ]
    },
    {
      "cell_type": "code",
      "source": [
        "from langchain_community.tools.tavily_search import TavilySearchResults\n",
        "\n",
        "web_search_tool = TavilySearchResults(k=1)"
      ],
      "metadata": {
        "id": "j2oLcFifG329"
      },
      "execution_count": null,
      "outputs": []
    },
    {
      "cell_type": "code",
      "source": [
        "from langchain.schema import Document\n",
        "from langgraph.graph import END, StateGraph\n",
        "from typing_extensions import TypedDict\n",
        "from typing import List\n",
        "\n",
        "class GraphState(TypedDict):\n",
        "    \"\"\"\n",
        "    Represents the state of our graph.\n",
        "\n",
        "    Attributes:\n",
        "        initial_email: email\n",
        "        email_category: email category\n",
        "        draft_email: LLM generation\n",
        "        final_email: LLM generation\n",
        "        research_info: list of documents\n",
        "        info_needed: whether to add search info\n",
        "        num_steps: number of steps\n",
        "    \"\"\"\n",
        "    initial_email: str\n",
        "    email_category: str\n",
        "    draft_email: str\n",
        "    final_email: str\n",
        "    research_info: List[str]\n",
        "    info_needed: bool\n",
        "    num_steps: int\n",
        "    draft_email_feedback: dict\n"
      ],
      "metadata": {
        "id": "_6Embri1G-3p"
      },
      "execution_count": null,
      "outputs": []
    },
    {
      "cell_type": "code",
      "source": [
        "def categorize_email(state):\n",
        "    \"\"\"Take the initial email and categorize it\"\"\"\n",
        "    print(\"---CATEGORIZING INITIAL EMAIL---\")\n",
        "    initial_email = state['initial_email']\n",
        "    num_steps = int(state['num_steps'])\n",
        "    num_steps += 1\n",
        "\n",
        "    # Categorize the email\n",
        "    email_category = email_category_generator.invoke({\"initial_email\": initial_email})\n",
        "    print(email_category)\n",
        "    # Save category to local disk\n",
        "    write_markdown_file(email_category, \"email_category\")\n",
        "\n",
        "    return {\"email_category\": email_category, \"num_steps\": num_steps}\n"
      ],
      "metadata": {
        "id": "v0zy-KanH7NB"
      },
      "execution_count": null,
      "outputs": []
    },
    {
      "cell_type": "code",
      "source": [
        "def research_info_search(state):\n",
        "    print(\"---RESEARCH INFO SEARCHING---\")\n",
        "    initial_email = state[\"initial_email\"]\n",
        "    email_category = state[\"email_category\"]\n",
        "    research_info = state[\"research_info\"]\n",
        "    num_steps = state['num_steps']\n",
        "    num_steps += 1\n",
        "\n",
        "    # Web search for keywords\n",
        "    keywords = search_keyword_chain.invoke({\"initial_email\": initial_email,\n",
        "                                            \"email_category\": email_category })\n",
        "    keywords = keywords['keywords']\n",
        "\n",
        "    full_searches = []\n",
        "    for keyword in keywords[:1]:  # Only taking the first keyword\n",
        "        print(keyword)\n",
        "        temp_docs = web_search_tool.invoke({\"query\": keyword})\n",
        "        web_results = \"\\n\".join([d[\"content\"] for d in temp_docs])\n",
        "        web_results = Document(page_content=web_results)\n",
        "        if full_searches is not None:\n",
        "            full_searches.append(web_results)\n",
        "        else:\n",
        "            full_searches = [web_results]\n",
        "    print(full_searches)\n",
        "    print(type(full_searches))\n",
        "\n",
        "    return {\"research_info\": full_searches, \"num_steps\": num_steps}\n",
        "\n"
      ],
      "metadata": {
        "id": "TAbY7QOZItd5"
      },
      "execution_count": null,
      "outputs": []
    },
    {
      "cell_type": "code",
      "source": [
        "def draft_email_writer(state):\n",
        "    print(\"---DRAFT EMAIL WRITER---\")\n",
        "    ## Get the state\n",
        "    initial_email = state[\"initial_email\"]\n",
        "    email_category = state[\"email_category\"]\n",
        "    research_info = state[\"research_info\"]\n",
        "    num_steps = state['num_steps']\n",
        "    num_steps += 1\n",
        "\n",
        "    # Generate draft email using the draft_writer_chain\n",
        "    draft_email = draft_writer_chain.invoke({\"initial_email\": initial_email,\n",
        "                                             \"email_category\": email_category,\n",
        "                                             \"research_info\": research_info})\n",
        "    print(draft_email)\n",
        "\n",
        "    email_draft = draft_email['email_draft']  # Extract the email draft from response\n",
        "    write_markdown_file(email_draft, \"draft_email\")  # Save draft to a markdown file\n",
        "\n",
        "    return {\"draft_email\": email_draft, \"num_steps\": num_steps}\n"
      ],
      "metadata": {
        "id": "y-gBKiLXkivq"
      },
      "execution_count": null,
      "outputs": []
    },
    {
      "cell_type": "code",
      "source": [
        "def analyze_draft_email(state):\n",
        "    print(\"---DRAFT EMAIL ANALYZER---\")\n",
        "    ## Get the state\n",
        "    initial_email = state[\"initial_email\"]\n",
        "    email_category = state[\"email_category\"]\n",
        "    draft_email = state[\"draft_email\"]\n",
        "    research_info = state[\"research_info\"]\n",
        "    num_steps = state['num_steps']\n",
        "    num_steps += 1\n",
        "\n",
        "    # Generate draft email feedback using the draft_analysis_chain\n",
        "    draft_email_feedback = draft_analysis_chain.invoke({\"initial_email\": initial_email,\n",
        "                                                        \"email_category\": email_category,\n",
        "                                                        \"research_info\": research_info,\n",
        "                                                        \"draft_email\": draft_email})\n",
        "\n",
        "    # Save feedback to a markdown file for later review\n",
        "    write_markdown_file(str(draft_email_feedback), \"draft_email_feedback\")\n",
        "\n",
        "    return {\"draft_email_feedback\": draft_email_feedback, \"num_steps\": num_steps}\n"
      ],
      "metadata": {
        "id": "hvQYioPPkypt"
      },
      "execution_count": null,
      "outputs": []
    },
    {
      "cell_type": "code",
      "source": [
        "def rewrite_email(state):\n",
        "    print(\"---REWRITE EMAIL ---\")\n",
        "\n",
        "    # Extract necessary state variables\n",
        "    initial_email = state[\"initial_email\"]\n",
        "    email_category = state[\"email_category\"]\n",
        "    draft_email = state[\"draft_email\"]\n",
        "    research_info = state[\"research_info\"]\n",
        "    draft_email_feedback = state[\"draft_email_feedback\"]\n",
        "    num_steps = state['num_steps']\n",
        "\n",
        "    # Increment the step count\n",
        "    num_steps += 1\n",
        "\n",
        "    # Generate the final email using the rewrite_chain\n",
        "    final_email = rewrite_chain.invoke({\n",
        "        \"initial_email\": initial_email,\n",
        "        \"email_category\": email_category,\n",
        "        \"research_info\": research_info,\n",
        "        \"draft_email\": draft_email,\n",
        "        \"email_analysis\": draft_email_feedback\n",
        "    })\n",
        "\n",
        "    # Save the final email to a markdown file for review\n",
        "    write_markdown_file(str(final_email), \"final_email\")\n",
        "\n",
        "    # Return updated state with the final email and incremented steps\n",
        "    return {\"final_email\": final_email['final_email'], \"num_steps\": num_steps}\n"
      ],
      "metadata": {
        "id": "vLyRCvXPm2V-"
      },
      "execution_count": null,
      "outputs": []
    },
    {
      "cell_type": "code",
      "source": [
        "def no_rewrite(state):\n",
        "    print(\"---NO REWRITE EMAIL ---\")\n",
        "    ## Get the state\n",
        "    draft_email = state[\"draft_email\"]\n",
        "    num_steps = state['num_steps']\n",
        "    num_steps += 1\n",
        "\n",
        "    # Save the draft email as final email\n",
        "    write_markdown_file(str(draft_email), \"final_email\")\n",
        "\n",
        "    return {\"final_email\": draft_email, \"num_steps\": num_steps}\n"
      ],
      "metadata": {
        "id": "6yIyy9EUnLyF"
      },
      "execution_count": null,
      "outputs": []
    },
    {
      "cell_type": "code",
      "source": [
        "def state_printer(state):\n",
        "    \"\"\"print the state\"\"\"\n",
        "    print(\"---STATE PRINTER---\")\n",
        "    print(f\"Initial Email: {state['initial_email']} \\n\" )\n",
        "    print(f\"Email Category: {state['email_category']} \\n\")\n",
        "    print(f\"Draft Email: {state['draft_email']} \\n\" )\n",
        "    print(f\"Final Email: {state['final_email']} \\n\" )\n",
        "    print(f\"Research Info: {state['research_info']} \\n\")\n",
        "    print(f\"Num Steps: {state['num_steps']} \\n\")\n",
        "\n",
        "    # Check if 'info_needed' exists in the state\n",
        "    info_needed = state.get('info_needed', 'N/A')\n",
        "    print(f\"Info Needed: {info_needed} \\n\")\n",
        "\n",
        "    return"
      ],
      "metadata": {
        "id": "0T02ITvJnPQl"
      },
      "execution_count": null,
      "outputs": []
    },
    {
      "cell_type": "code",
      "source": [
        "def route_to_research(state):\n",
        "    \"\"\"\n",
        "    Route email to web search or not.\n",
        "    Args:\n",
        "        state (dict): The current graph state\n",
        "    Returns:\n",
        "        str: Next node to call\n",
        "    \"\"\"\n",
        "    print(\"---ROUTE TO RESEARCH---\")\n",
        "    initial_email = state[\"initial_email\"]\n",
        "    email_category = state[\"email_category\"]\n",
        "\n",
        "    # Route decision based on the email category and content\n",
        "    router = research_router.invoke({\"initial_email\": initial_email, \"email_category\": email_category})\n",
        "    print(router)\n",
        "\n",
        "    # Retrieve the router's decision\n",
        "    print(router['router_decision'])\n",
        "\n",
        "    # Routing logic\n",
        "    if router['router_decision'] == 'research_info':\n",
        "        print(\"---ROUTE EMAIL TO RESEARCH INFO---\")\n",
        "        return \"research_info\"\n",
        "    elif router['router_decision'] == 'draft_email':\n",
        "        print(\"---ROUTE EMAIL TO DRAFT EMAIL---\")\n",
        "        return \"draft_email\"\n"
      ],
      "metadata": {
        "id": "_i3lcHEgnu_E"
      },
      "execution_count": null,
      "outputs": []
    },
    {
      "cell_type": "code",
      "source": [
        "def route_to_rewrite(state):\n",
        "    \"\"\"\n",
        "    Route email to rewrite or not, based on the draft email quality.\n",
        "    Args:\n",
        "        state (dict): The current graph state\n",
        "    Returns:\n",
        "        str: Next node to call (rewrite or no_rewrite)\n",
        "    \"\"\"\n",
        "    print(\"---ROUTE TO REWRITE---\")\n",
        "    initial_email = state[\"initial_email\"]\n",
        "    email_category = state[\"email_category\"]\n",
        "    draft_email = state[\"draft_email\"]\n",
        "    research_info = state[\"research_info\"]\n",
        "\n",
        "    # Invoke the rewrite router to evaluate the draft email\n",
        "    router = rewrite_router.invoke({\"initial_email\": initial_email,\n",
        "                                     \"email_category\": email_category,\n",
        "                                     \"draft_email\": draft_email})\n",
        "    print(router)\n",
        "\n",
        "    # Retrieve the router's decision\n",
        "    print(router['router_decision'])\n",
        "\n",
        "    # Routing logic based on the evaluation\n",
        "    if router['router_decision'] == 'rewrite':\n",
        "        print(\"---ROUTE TO ANALYSIS - REWRITE---\")\n",
        "        return \"rewrite\"\n",
        "    elif router['router_decision'] == 'no_rewrite':\n",
        "        print(\"---ROUTE EMAIL TO FINAL EMAIL---\")\n",
        "        return \"no_rewrite\"\n"
      ],
      "metadata": {
        "id": "tFBAnRJ3oTX6"
      },
      "execution_count": null,
      "outputs": []
    },
    {
      "cell_type": "code",
      "source": [
        "# Define the workflow (state graph)\n",
        "workflow = StateGraph(GraphState)\n",
        "\n",
        "# Add nodes to the workflow graph\n",
        "workflow.add_node(\"categorize_email\", categorize_email)  # Categorize the email\n",
        "workflow.add_node(\"research_info_search\", research_info_search)  # Perform web search for info\n",
        "workflow.add_node(\"state_printer\", state_printer)  # Print the final state\n",
        "workflow.add_node(\"draft_email_writer\", draft_email_writer)  # Generate draft email\n",
        "workflow.add_node(\"analyze_draft_email\", analyze_draft_email)  # Analyze the draft\n",
        "workflow.add_node(\"rewrite_email\", rewrite_email)  # Rewrite the email if necessary\n",
        "workflow.add_node(\"no_rewrite\", no_rewrite)  # No rewrite needed, just finalize\n",
        "\n",
        "# Set the entry point to the \"categorize_email\" node\n",
        "workflow.set_entry_point(\"categorize_email\")\n",
        "\n",
        "# Add conditional edges based on the outcome of the categorization\n",
        "workflow.add_conditional_edges(\n",
        "    \"categorize_email\",\n",
        "    route_to_research,\n",
        "    {\n",
        "        \"research_info\": \"research_info_search\",  # If research info needed, go to research\n",
        "        \"draft_email\": \"draft_email_writer\",  # If no research needed, go to draft email generation\n",
        "    },\n",
        ")\n",
        "\n",
        "# Add edges between nodes\n",
        "workflow.add_edge(\"research_info_search\", \"draft_email_writer\")  # After research, go to drafting\n",
        "\n",
        "# Add conditional edges based on whether the draft email needs rewriting or not\n",
        "workflow.add_conditional_edges(\n",
        "    \"draft_email_writer\",\n",
        "    route_to_rewrite,\n",
        "    {\n",
        "        \"rewrite\": \"analyze_draft_email\",  # If rewrite needed, go to analyze draft\n",
        "        \"no_rewrite\": \"no_rewrite\",  # If no rewrite needed, go to final email\n",
        "    },\n",
        ")\n",
        "\n",
        "# Add edges to finalize the email or send for rewriting\n",
        "workflow.add_edge(\"analyze_draft_email\", \"rewrite_email\")  # After analyzing, rewrite the email\n",
        "workflow.add_edge(\"no_rewrite\", \"state_printer\")  # No rewrite, finalize the email\n",
        "workflow.add_edge(\"rewrite_email\", \"state_printer\")  # After rewriting, finalize the email\n",
        "\n",
        "# Finally, add the end node\n",
        "workflow.add_edge(\"state_printer\", END)\n",
        "\n",
        "# Compile the workflow into an executable application\n",
        "app = workflow.compile()\n"
      ],
      "metadata": {
        "id": "ury_Vu75rMka"
      },
      "execution_count": null,
      "outputs": []
    },
    {
      "cell_type": "code",
      "source": [
        "EMAIL = \"\"\"HI there, \\n\n",
        "I am emailing to say that the resort weather was way to cloudy and overcast. \\n\n",
        "I wanted to write a song called 'Here comes the sun but it never came'\n",
        "\n",
        "\n",
        "What should be the weather in Arizona in April?\n",
        "\n",
        "\n",
        "I really hope you fix this next time.\n",
        "\n",
        "\n",
        "Thanks,\n",
        "George\n",
        "\"\"\"\n"
      ],
      "metadata": {
        "id": "txaFXturs5WD"
      },
      "execution_count": null,
      "outputs": []
    },
    {
      "cell_type": "code",
      "source": [
        "# run the agent\n",
        "inputs = {\n",
        "    \"initial_email\": EMAIL,\n",
        "    \"research_info\": None,\n",
        "    \"num_steps\": 0,\n",
        "    \"info_needed\": False  # Ensure this key is added\n",
        "}\n",
        "\n",
        "\n",
        "for output in app.stream(inputs):\n",
        "    for key, value in output.items():\n",
        "        pprint(f\"Finished running: {key}:\")"
      ],
      "metadata": {
        "colab": {
          "base_uri": "https://localhost:8080/"
        },
        "id": "K_wAbTNWtUvD",
        "outputId": "348c9423-7e5f-43fa-a19a-7316bd8c805b"
      },
      "execution_count": null,
      "outputs": [
        {
          "output_type": "stream",
          "name": "stdout",
          "text": [
            "---CATEGORIZING INITIAL EMAIL---\n",
            "After conducting a comprehensive analysis of the email, I would categorize it as:\n",
            "\n",
            "'customer_complaint'\n",
            "\n",
            "The email expresses dissatisfaction with the weather conditions at a resort and mentions a hope for improvement in the future, indicating a grievance or issue that the customer is bringing to the attention of the recipient.\n",
            "---ROUTE TO RESEARCH---\n",
            "{'router_decision': 'research_info'}\n",
            "research_info\n",
            "---ROUTE EMAIL TO RESEARCH INFO---\n",
            "'Finished running: categorize_email:'\n",
            "---RESEARCH INFO SEARCHING---\n",
            "Arizona weather April\n",
            "[Document(metadata={}, page_content=\"{'location': {'name': 'Arizona', 'region': 'Atlantida', 'country': 'Honduras', 'lat': 15.6333, 'lon': -87.3167, 'tz_id': 'America/Tegucigalpa', 'localtime_epoch': 1738993419, 'localtime': '2025-02-07 23:43'}, 'current': {'last_updated_epoch': 1738992600, 'last_updated': '2025-02-07 23:30', 'temp_c': 23.3, 'temp_f': 73.9, 'is_day': 0, 'condition': {'text': 'Partly cloudy', 'icon': '//cdn.weatherapi.com/weather/64x64/night/116.png', 'code': 1003}, 'wind_mph': 2.2, 'wind_kph': 3.6, 'wind_degree': 131, 'wind_dir': 'SE', 'pressure_mb': 1016.0, 'pressure_in': 30.0, 'precip_mm': 0.07, 'precip_in': 0.0, 'humidity': 94, 'cloud': 75, 'feelslike_c': 25.7, 'feelslike_f': 78.2, 'windchill_c': 22.1, 'windchill_f': 71.8, 'heatindex_c': 24.6, 'heatindex_f': 76.3, 'dewpoint_c': 21.1, 'dewpoint_f': 69.9, 'vis_km': 10.0, 'vis_miles': 6.0, 'uv': 0.0, 'gust_mph': 2.9, 'gust_kph': 4.7}}\\nThe temperatures in Arizona in April are comfortable with low of 64°F and and high up to 84°F. You can expect a few rainy days in Arizona during April,\\nArizona weather in April 2025. Expect 29°C daytime maximum temperatures in the shade with on average 12 hours of sunshine per day in Arizona in April.\\nExpect warm days with temperatures around 86°, cooling to mild conditions of 62° after sunset. Perfect for those who enjoy warm weather.\\nWeather in Tucson in April 2025 (Arizona) - Detailed Weather Forecast for a Month Weather World United States Weather in Tucson Weather in Tucson in April 2025 Tucson Weather Forecast for April 2025, is based on previous years' statistical data. +77°+63° +79°+63° +81°+64° +77°+61° +81°+63° +81°+64° +82°+64° +82°+66° +81°+64° +81°+63° +81°+63° +81°+66° +81°+64° +81°+64° +81°+64° +81°+64° +81°+64° +82°+66° +82°+66° +84°+68° +84°+68° +84°+68° +82°+66° +86°+68° +86°+68° +84°+66° +84°+66° +86°+70° +84°+70° +86°+68° Extended weather forecast in Tucson HourlyWeek10-Day14-Day30-DayYear Weather in large and nearby cities Weather in Washington, D.C.+43° Phoenix+46° Winslow+37° Tempe Junction+48° Tempe+48° Deming+34° Mesa+50° Sells+52° Scottsdale+46° Surprise+45° Prescott Valley+43° Peoria+45° Nogales+48° Glendale+48° Gilbert+46° Douglas+50° Ranchitos Nortes+54° Los Arboles+54° world's temperature today day day Copyright © 2024 «World-Weather.info» All rights reserved. Temperature units\")]\n",
            "<class 'list'>\n",
            "'Finished running: research_info_search:'\n",
            "---DRAFT EMAIL WRITER---\n",
            "{'email_draft': \"Hi George,\\n\\nThank you for reaching out to us about your recent experience at our resort. We apologize that the weather didn't meet your expectations, and we appreciate your creative idea for a song title!\\n\\nRegarding your question, April is a great time to visit Arizona, with comfortable temperatures ranging from 64°F to 84°F. While it's not uncommon to have some cloudy days, we understand that it can impact your overall experience.\\n\\nWe value your feedback and would like to assure you that we're taking your concerns seriously. We'll do our best to ensure that our future guests have a better experience.\\n\\nIf you have any other questions or concerns, please don't hesitate to reach out to us.\\n\\nBest regards,\\nSarah, Resident Manager\"}\n",
            "---ROUTE TO REWRITE---\n",
            "{'router_decision': 'no_rewrite'}\n",
            "no_rewrite\n",
            "---ROUTE EMAIL TO FINAL EMAIL---\n",
            "'Finished running: draft_email_writer:'\n",
            "---NO REWRITE EMAIL ---\n",
            "'Finished running: no_rewrite:'\n",
            "---STATE PRINTER---\n",
            "Initial Email: HI there, \n",
            "\n",
            "I am emailing to say that the resort weather was way to cloudy and overcast. \n",
            "\n",
            "I wanted to write a song called 'Here comes the sun but it never came'\n",
            "\n",
            "\n",
            "What should be the weather in Arizona in April?\n",
            "\n",
            "\n",
            "I really hope you fix this next time.\n",
            "\n",
            "\n",
            "Thanks,\n",
            "George\n",
            " \n",
            "\n",
            "Email Category: After conducting a comprehensive analysis of the email, I would categorize it as:\n",
            "\n",
            "'customer_complaint'\n",
            "\n",
            "The email expresses dissatisfaction with the weather conditions at a resort and mentions a hope for improvement in the future, indicating a grievance or issue that the customer is bringing to the attention of the recipient. \n",
            "\n",
            "Draft Email: Hi George,\n",
            "\n",
            "Thank you for reaching out to us about your recent experience at our resort. We apologize that the weather didn't meet your expectations, and we appreciate your creative idea for a song title!\n",
            "\n",
            "Regarding your question, April is a great time to visit Arizona, with comfortable temperatures ranging from 64°F to 84°F. While it's not uncommon to have some cloudy days, we understand that it can impact your overall experience.\n",
            "\n",
            "We value your feedback and would like to assure you that we're taking your concerns seriously. We'll do our best to ensure that our future guests have a better experience.\n",
            "\n",
            "If you have any other questions or concerns, please don't hesitate to reach out to us.\n",
            "\n",
            "Best regards,\n",
            "Sarah, Resident Manager \n",
            "\n",
            "Final Email: Hi George,\n",
            "\n",
            "Thank you for reaching out to us about your recent experience at our resort. We apologize that the weather didn't meet your expectations, and we appreciate your creative idea for a song title!\n",
            "\n",
            "Regarding your question, April is a great time to visit Arizona, with comfortable temperatures ranging from 64°F to 84°F. While it's not uncommon to have some cloudy days, we understand that it can impact your overall experience.\n",
            "\n",
            "We value your feedback and would like to assure you that we're taking your concerns seriously. We'll do our best to ensure that our future guests have a better experience.\n",
            "\n",
            "If you have any other questions or concerns, please don't hesitate to reach out to us.\n",
            "\n",
            "Best regards,\n",
            "Sarah, Resident Manager \n",
            "\n",
            "Research Info: [Document(metadata={}, page_content=\"{'location': {'name': 'Arizona', 'region': 'Atlantida', 'country': 'Honduras', 'lat': 15.6333, 'lon': -87.3167, 'tz_id': 'America/Tegucigalpa', 'localtime_epoch': 1738993419, 'localtime': '2025-02-07 23:43'}, 'current': {'last_updated_epoch': 1738992600, 'last_updated': '2025-02-07 23:30', 'temp_c': 23.3, 'temp_f': 73.9, 'is_day': 0, 'condition': {'text': 'Partly cloudy', 'icon': '//cdn.weatherapi.com/weather/64x64/night/116.png', 'code': 1003}, 'wind_mph': 2.2, 'wind_kph': 3.6, 'wind_degree': 131, 'wind_dir': 'SE', 'pressure_mb': 1016.0, 'pressure_in': 30.0, 'precip_mm': 0.07, 'precip_in': 0.0, 'humidity': 94, 'cloud': 75, 'feelslike_c': 25.7, 'feelslike_f': 78.2, 'windchill_c': 22.1, 'windchill_f': 71.8, 'heatindex_c': 24.6, 'heatindex_f': 76.3, 'dewpoint_c': 21.1, 'dewpoint_f': 69.9, 'vis_km': 10.0, 'vis_miles': 6.0, 'uv': 0.0, 'gust_mph': 2.9, 'gust_kph': 4.7}}\\nThe temperatures in Arizona in April are comfortable with low of 64°F and and high up to 84°F. You can expect a few rainy days in Arizona during April,\\nArizona weather in April 2025. Expect 29°C daytime maximum temperatures in the shade with on average 12 hours of sunshine per day in Arizona in April.\\nExpect warm days with temperatures around 86°, cooling to mild conditions of 62° after sunset. Perfect for those who enjoy warm weather.\\nWeather in Tucson in April 2025 (Arizona) - Detailed Weather Forecast for a Month Weather World United States Weather in Tucson Weather in Tucson in April 2025 Tucson Weather Forecast for April 2025, is based on previous years' statistical data. +77°+63° +79°+63° +81°+64° +77°+61° +81°+63° +81°+64° +82°+64° +82°+66° +81°+64° +81°+63° +81°+63° +81°+66° +81°+64° +81°+64° +81°+64° +81°+64° +81°+64° +82°+66° +82°+66° +84°+68° +84°+68° +84°+68° +82°+66° +86°+68° +86°+68° +84°+66° +84°+66° +86°+70° +84°+70° +86°+68° Extended weather forecast in Tucson HourlyWeek10-Day14-Day30-DayYear Weather in large and nearby cities Weather in Washington, D.C.+43° Phoenix+46° Winslow+37° Tempe Junction+48° Tempe+48° Deming+34° Mesa+50° Sells+52° Scottsdale+46° Surprise+45° Prescott Valley+43° Peoria+45° Nogales+48° Glendale+48° Gilbert+46° Douglas+50° Ranchitos Nortes+54° Los Arboles+54° world's temperature today day day Copyright © 2024 «World-Weather.info» All rights reserved. Temperature units\")] \n",
            "\n",
            "Num Steps: 4 \n",
            "\n",
            "Info Needed: False \n",
            "\n",
            "'Finished running: state_printer:'\n"
          ]
        }
      ]
    },
    {
      "cell_type": "code",
      "source": [
        "pip install --upgrade google-auth google-auth-oauthlib google-auth-httplib2 google-api-python-client\n"
      ],
      "metadata": {
        "colab": {
          "base_uri": "https://localhost:8080/"
        },
        "id": "lMPLh9Eax1Dk",
        "outputId": "8eba7395-3a58-40c4-d7ba-7e53321d9641"
      },
      "execution_count": null,
      "outputs": [
        {
          "output_type": "stream",
          "name": "stdout",
          "text": [
            "Requirement already satisfied: google-auth in /usr/local/lib/python3.11/dist-packages (2.38.0)\n",
            "Requirement already satisfied: google-auth-oauthlib in /usr/local/lib/python3.11/dist-packages (1.2.1)\n",
            "Requirement already satisfied: google-auth-httplib2 in /usr/local/lib/python3.11/dist-packages (0.2.0)\n",
            "Requirement already satisfied: google-api-python-client in /usr/local/lib/python3.11/dist-packages (2.160.0)\n",
            "Requirement already satisfied: cachetools<6.0,>=2.0.0 in /usr/local/lib/python3.11/dist-packages (from google-auth) (5.5.1)\n",
            "Requirement already satisfied: pyasn1-modules>=0.2.1 in /usr/local/lib/python3.11/dist-packages (from google-auth) (0.4.1)\n",
            "Requirement already satisfied: rsa<5,>=3.1.4 in /usr/local/lib/python3.11/dist-packages (from google-auth) (4.9)\n",
            "Requirement already satisfied: requests-oauthlib>=0.7.0 in /usr/local/lib/python3.11/dist-packages (from google-auth-oauthlib) (2.0.0)\n",
            "Requirement already satisfied: httplib2>=0.19.0 in /usr/local/lib/python3.11/dist-packages (from google-auth-httplib2) (0.22.0)\n",
            "Requirement already satisfied: google-api-core!=2.0.*,!=2.1.*,!=2.2.*,!=2.3.0,<3.0.0.dev0,>=1.31.5 in /usr/local/lib/python3.11/dist-packages (from google-api-python-client) (2.19.2)\n",
            "Requirement already satisfied: uritemplate<5,>=3.0.1 in /usr/local/lib/python3.11/dist-packages (from google-api-python-client) (4.1.1)\n",
            "Requirement already satisfied: googleapis-common-protos<2.0.dev0,>=1.56.2 in /usr/local/lib/python3.11/dist-packages (from google-api-core!=2.0.*,!=2.1.*,!=2.2.*,!=2.3.0,<3.0.0.dev0,>=1.31.5->google-api-python-client) (1.66.0)\n",
            "Requirement already satisfied: protobuf!=3.20.0,!=3.20.1,!=4.21.0,!=4.21.1,!=4.21.2,!=4.21.3,!=4.21.4,!=4.21.5,<6.0.0.dev0,>=3.19.5 in /usr/local/lib/python3.11/dist-packages (from google-api-core!=2.0.*,!=2.1.*,!=2.2.*,!=2.3.0,<3.0.0.dev0,>=1.31.5->google-api-python-client) (4.25.6)\n",
            "Requirement already satisfied: proto-plus<2.0.0dev,>=1.22.3 in /usr/local/lib/python3.11/dist-packages (from google-api-core!=2.0.*,!=2.1.*,!=2.2.*,!=2.3.0,<3.0.0.dev0,>=1.31.5->google-api-python-client) (1.26.0)\n",
            "Requirement already satisfied: requests<3.0.0.dev0,>=2.18.0 in /usr/local/lib/python3.11/dist-packages (from google-api-core!=2.0.*,!=2.1.*,!=2.2.*,!=2.3.0,<3.0.0.dev0,>=1.31.5->google-api-python-client) (2.32.3)\n",
            "Requirement already satisfied: pyparsing!=3.0.0,!=3.0.1,!=3.0.2,!=3.0.3,<4,>=2.4.2 in /usr/local/lib/python3.11/dist-packages (from httplib2>=0.19.0->google-auth-httplib2) (3.2.1)\n",
            "Requirement already satisfied: pyasn1<0.7.0,>=0.4.6 in /usr/local/lib/python3.11/dist-packages (from pyasn1-modules>=0.2.1->google-auth) (0.6.1)\n",
            "Requirement already satisfied: oauthlib>=3.0.0 in /usr/local/lib/python3.11/dist-packages (from requests-oauthlib>=0.7.0->google-auth-oauthlib) (3.2.2)\n",
            "Requirement already satisfied: charset-normalizer<4,>=2 in /usr/local/lib/python3.11/dist-packages (from requests<3.0.0.dev0,>=2.18.0->google-api-core!=2.0.*,!=2.1.*,!=2.2.*,!=2.3.0,<3.0.0.dev0,>=1.31.5->google-api-python-client) (3.4.1)\n",
            "Requirement already satisfied: idna<4,>=2.5 in /usr/local/lib/python3.11/dist-packages (from requests<3.0.0.dev0,>=2.18.0->google-api-core!=2.0.*,!=2.1.*,!=2.2.*,!=2.3.0,<3.0.0.dev0,>=1.31.5->google-api-python-client) (3.10)\n",
            "Requirement already satisfied: urllib3<3,>=1.21.1 in /usr/local/lib/python3.11/dist-packages (from requests<3.0.0.dev0,>=2.18.0->google-api-core!=2.0.*,!=2.1.*,!=2.2.*,!=2.3.0,<3.0.0.dev0,>=1.31.5->google-api-python-client) (2.3.0)\n",
            "Requirement already satisfied: certifi>=2017.4.17 in /usr/local/lib/python3.11/dist-packages (from requests<3.0.0.dev0,>=2.18.0->google-api-core!=2.0.*,!=2.1.*,!=2.2.*,!=2.3.0,<3.0.0.dev0,>=1.31.5->google-api-python-client) (2025.1.31)\n"
          ]
        }
      ]
    },
    {
      "cell_type": "code",
      "source": [
        "!pip install google-auth-oauthlib google-auth-httplib2 google-api-python-client"
      ],
      "metadata": {
        "colab": {
          "base_uri": "https://localhost:8080/"
        },
        "id": "4kATvJgMr75c",
        "outputId": "f216b5ff-0de2-47da-a055-1f1ab32ac3e5"
      },
      "execution_count": null,
      "outputs": [
        {
          "output_type": "stream",
          "name": "stdout",
          "text": [
            "Requirement already satisfied: google-auth-oauthlib in /usr/local/lib/python3.11/dist-packages (1.2.1)\n",
            "Requirement already satisfied: google-auth-httplib2 in /usr/local/lib/python3.11/dist-packages (0.2.0)\n",
            "Requirement already satisfied: google-api-python-client in /usr/local/lib/python3.11/dist-packages (2.160.0)\n",
            "Requirement already satisfied: google-auth>=2.15.0 in /usr/local/lib/python3.11/dist-packages (from google-auth-oauthlib) (2.38.0)\n",
            "Requirement already satisfied: requests-oauthlib>=0.7.0 in /usr/local/lib/python3.11/dist-packages (from google-auth-oauthlib) (2.0.0)\n",
            "Requirement already satisfied: httplib2>=0.19.0 in /usr/local/lib/python3.11/dist-packages (from google-auth-httplib2) (0.22.0)\n",
            "Requirement already satisfied: google-api-core!=2.0.*,!=2.1.*,!=2.2.*,!=2.3.0,<3.0.0.dev0,>=1.31.5 in /usr/local/lib/python3.11/dist-packages (from google-api-python-client) (2.19.2)\n",
            "Requirement already satisfied: uritemplate<5,>=3.0.1 in /usr/local/lib/python3.11/dist-packages (from google-api-python-client) (4.1.1)\n",
            "Requirement already satisfied: googleapis-common-protos<2.0.dev0,>=1.56.2 in /usr/local/lib/python3.11/dist-packages (from google-api-core!=2.0.*,!=2.1.*,!=2.2.*,!=2.3.0,<3.0.0.dev0,>=1.31.5->google-api-python-client) (1.66.0)\n",
            "Requirement already satisfied: protobuf!=3.20.0,!=3.20.1,!=4.21.0,!=4.21.1,!=4.21.2,!=4.21.3,!=4.21.4,!=4.21.5,<6.0.0.dev0,>=3.19.5 in /usr/local/lib/python3.11/dist-packages (from google-api-core!=2.0.*,!=2.1.*,!=2.2.*,!=2.3.0,<3.0.0.dev0,>=1.31.5->google-api-python-client) (4.25.6)\n",
            "Requirement already satisfied: proto-plus<2.0.0dev,>=1.22.3 in /usr/local/lib/python3.11/dist-packages (from google-api-core!=2.0.*,!=2.1.*,!=2.2.*,!=2.3.0,<3.0.0.dev0,>=1.31.5->google-api-python-client) (1.26.0)\n",
            "Requirement already satisfied: requests<3.0.0.dev0,>=2.18.0 in /usr/local/lib/python3.11/dist-packages (from google-api-core!=2.0.*,!=2.1.*,!=2.2.*,!=2.3.0,<3.0.0.dev0,>=1.31.5->google-api-python-client) (2.32.3)\n",
            "Requirement already satisfied: cachetools<6.0,>=2.0.0 in /usr/local/lib/python3.11/dist-packages (from google-auth>=2.15.0->google-auth-oauthlib) (5.5.1)\n",
            "Requirement already satisfied: pyasn1-modules>=0.2.1 in /usr/local/lib/python3.11/dist-packages (from google-auth>=2.15.0->google-auth-oauthlib) (0.4.1)\n",
            "Requirement already satisfied: rsa<5,>=3.1.4 in /usr/local/lib/python3.11/dist-packages (from google-auth>=2.15.0->google-auth-oauthlib) (4.9)\n",
            "Requirement already satisfied: pyparsing!=3.0.0,!=3.0.1,!=3.0.2,!=3.0.3,<4,>=2.4.2 in /usr/local/lib/python3.11/dist-packages (from httplib2>=0.19.0->google-auth-httplib2) (3.2.1)\n",
            "Requirement already satisfied: oauthlib>=3.0.0 in /usr/local/lib/python3.11/dist-packages (from requests-oauthlib>=0.7.0->google-auth-oauthlib) (3.2.2)\n",
            "Requirement already satisfied: pyasn1<0.7.0,>=0.4.6 in /usr/local/lib/python3.11/dist-packages (from pyasn1-modules>=0.2.1->google-auth>=2.15.0->google-auth-oauthlib) (0.6.1)\n",
            "Requirement already satisfied: charset-normalizer<4,>=2 in /usr/local/lib/python3.11/dist-packages (from requests<3.0.0.dev0,>=2.18.0->google-api-core!=2.0.*,!=2.1.*,!=2.2.*,!=2.3.0,<3.0.0.dev0,>=1.31.5->google-api-python-client) (3.4.1)\n",
            "Requirement already satisfied: idna<4,>=2.5 in /usr/local/lib/python3.11/dist-packages (from requests<3.0.0.dev0,>=2.18.0->google-api-core!=2.0.*,!=2.1.*,!=2.2.*,!=2.3.0,<3.0.0.dev0,>=1.31.5->google-api-python-client) (3.10)\n",
            "Requirement already satisfied: urllib3<3,>=1.21.1 in /usr/local/lib/python3.11/dist-packages (from requests<3.0.0.dev0,>=2.18.0->google-api-core!=2.0.*,!=2.1.*,!=2.2.*,!=2.3.0,<3.0.0.dev0,>=1.31.5->google-api-python-client) (2.3.0)\n",
            "Requirement already satisfied: certifi>=2017.4.17 in /usr/local/lib/python3.11/dist-packages (from requests<3.0.0.dev0,>=2.18.0->google-api-core!=2.0.*,!=2.1.*,!=2.2.*,!=2.3.0,<3.0.0.dev0,>=1.31.5->google-api-python-client) (2025.1.31)\n"
          ]
        }
      ]
    },
    {
      "source": [
        "from google.oauth2.credentials import Credentials\n",
        "from google_auth_oauthlib.flow import InstalledAppFlow\n",
        "from googleapiclient.discovery import build\n",
        "import os\n",
        "\n",
        "# If modifying these SCOPES, delete the token.json file.\n",
        "SCOPES = ['https://www.googleapis.com/auth/gmail.readonly']\n",
        "\n",
        "\n",
        "def get_gmail_service():\n",
        "    \"\"\"Gets an authenticated Gmail API service instance.\"\"\"\n",
        "    creds = None\n",
        "    # The file token.json stores the user's access and refresh tokens, and is\n",
        "    # created automatically when the authorization flow completes for the first time.\n",
        "    if os.path.exists('token.json'):\n",
        "        creds = Credentials.from_authorized_user_file('token.json', SCOPES)\n",
        "\n",
        "    # If there are no (valid) credentials available, let the user log in.\n",
        "    if not creds or not creds.valid:\n",
        "        if creds and creds.expired and creds.refresh_token:\n",
        "            # Refresh existing token using the Request function from google.auth.transport.requests\n",
        "            # Request is required for refreshing tokens.\n",
        "            from google.auth.transport.requests import Request\n",
        "            creds.refresh(Request())\n",
        "        else:\n",
        "            flow = InstalledAppFlow.from_client_secrets_file(\n",
        "                'credentials.json', SCOPES)\n",
        "            # Use 'copy_output' instead of 'run_local_server' to avoid browser issues\n",
        "            creds = flow.run_console()\n",
        "\n",
        "        # Save the credentials for the next run\n",
        "        with open('token.json', 'w') as token:\n",
        "            token.write(creds.to_json())\n",
        "\n",
        "    service = build('gmail', 'v1', credentials=creds)\n",
        "    return service\n",
        "\n",
        "\n",
        "\n",
        "\n",
        "def get_latest_email():\n",
        "    service = get_gmail_service()\n",
        "    # Call the Gmail API to fetch the INBOX\n",
        "    results = service.users().messages().list(userId='me', labelIds=['INBOX'], maxResults=1).execute()\n",
        "    messages = results.get('messages', [])\n",
        "\n",
        "    if not messages:\n",
        "        print('No messages found.')\n",
        "    else:\n",
        "        # Fetch the message body\n",
        "        message = service.users().messages().get(userId='me', id=messages[0]['id']).execute()\n",
        "        print('Latest email fetched successfully.')\n",
        "        return message\n",
        "\n",
        "if __name__ == '__main__':\n",
        "    latest_email = get_latest_email()\n",
        "    print(latest_email)\n",
        "\n",
        "# ... rest of your code ..."
      ],
      "cell_type": "code",
      "metadata": {
        "colab": {
          "base_uri": "https://localhost:8080/",
          "height": 382
        },
        "id": "Gl5AjkTp1qZx",
        "outputId": "ce6ac5ff-a6e4-41e2-afd9-7e1e3fea2fe4"
      },
      "execution_count": null,
      "outputs": [
        {
          "output_type": "error",
          "ename": "AttributeError",
          "evalue": "'InstalledAppFlow' object has no attribute 'run_console'",
          "traceback": [
            "\u001b[0;31m---------------------------------------------------------------------------\u001b[0m",
            "\u001b[0;31mAttributeError\u001b[0m                            Traceback (most recent call last)",
            "\u001b[0;32m<ipython-input-79-604d3ae1b3ef>\u001b[0m in \u001b[0;36m<cell line: 0>\u001b[0;34m()\u001b[0m\n\u001b[1;32m     54\u001b[0m \u001b[0;34m\u001b[0m\u001b[0m\n\u001b[1;32m     55\u001b[0m \u001b[0;32mif\u001b[0m \u001b[0m__name__\u001b[0m \u001b[0;34m==\u001b[0m \u001b[0;34m'__main__'\u001b[0m\u001b[0;34m:\u001b[0m\u001b[0;34m\u001b[0m\u001b[0;34m\u001b[0m\u001b[0m\n\u001b[0;32m---> 56\u001b[0;31m     \u001b[0mlatest_email\u001b[0m \u001b[0;34m=\u001b[0m \u001b[0mget_latest_email\u001b[0m\u001b[0;34m(\u001b[0m\u001b[0;34m)\u001b[0m\u001b[0;34m\u001b[0m\u001b[0;34m\u001b[0m\u001b[0m\n\u001b[0m\u001b[1;32m     57\u001b[0m     \u001b[0mprint\u001b[0m\u001b[0;34m(\u001b[0m\u001b[0mlatest_email\u001b[0m\u001b[0;34m)\u001b[0m\u001b[0;34m\u001b[0m\u001b[0;34m\u001b[0m\u001b[0m\n\u001b[1;32m     58\u001b[0m \u001b[0;34m\u001b[0m\u001b[0m\n",
            "\u001b[0;32m<ipython-input-79-604d3ae1b3ef>\u001b[0m in \u001b[0;36mget_latest_email\u001b[0;34m()\u001b[0m\n\u001b[1;32m     40\u001b[0m \u001b[0;34m\u001b[0m\u001b[0m\n\u001b[1;32m     41\u001b[0m \u001b[0;32mdef\u001b[0m \u001b[0mget_latest_email\u001b[0m\u001b[0;34m(\u001b[0m\u001b[0;34m)\u001b[0m\u001b[0;34m:\u001b[0m\u001b[0;34m\u001b[0m\u001b[0;34m\u001b[0m\u001b[0m\n\u001b[0;32m---> 42\u001b[0;31m     \u001b[0mservice\u001b[0m \u001b[0;34m=\u001b[0m \u001b[0mget_gmail_service\u001b[0m\u001b[0;34m(\u001b[0m\u001b[0;34m)\u001b[0m\u001b[0;34m\u001b[0m\u001b[0;34m\u001b[0m\u001b[0m\n\u001b[0m\u001b[1;32m     43\u001b[0m     \u001b[0;31m# Call the Gmail API to fetch the INBOX\u001b[0m\u001b[0;34m\u001b[0m\u001b[0;34m\u001b[0m\u001b[0m\n\u001b[1;32m     44\u001b[0m     \u001b[0mresults\u001b[0m \u001b[0;34m=\u001b[0m \u001b[0mservice\u001b[0m\u001b[0;34m.\u001b[0m\u001b[0musers\u001b[0m\u001b[0;34m(\u001b[0m\u001b[0;34m)\u001b[0m\u001b[0;34m.\u001b[0m\u001b[0mmessages\u001b[0m\u001b[0;34m(\u001b[0m\u001b[0;34m)\u001b[0m\u001b[0;34m.\u001b[0m\u001b[0mlist\u001b[0m\u001b[0;34m(\u001b[0m\u001b[0muserId\u001b[0m\u001b[0;34m=\u001b[0m\u001b[0;34m'me'\u001b[0m\u001b[0;34m,\u001b[0m \u001b[0mlabelIds\u001b[0m\u001b[0;34m=\u001b[0m\u001b[0;34m[\u001b[0m\u001b[0;34m'INBOX'\u001b[0m\u001b[0;34m]\u001b[0m\u001b[0;34m,\u001b[0m \u001b[0mmaxResults\u001b[0m\u001b[0;34m=\u001b[0m\u001b[0;36m1\u001b[0m\u001b[0;34m)\u001b[0m\u001b[0;34m.\u001b[0m\u001b[0mexecute\u001b[0m\u001b[0;34m(\u001b[0m\u001b[0;34m)\u001b[0m\u001b[0;34m\u001b[0m\u001b[0;34m\u001b[0m\u001b[0m\n",
            "\u001b[0;32m<ipython-input-79-604d3ae1b3ef>\u001b[0m in \u001b[0;36mget_gmail_service\u001b[0;34m()\u001b[0m\n\u001b[1;32m     27\u001b[0m                 'credentials.json', SCOPES)\n\u001b[1;32m     28\u001b[0m             \u001b[0;31m# Use 'copy_output' instead of 'run_local_server' to avoid browser issues\u001b[0m\u001b[0;34m\u001b[0m\u001b[0;34m\u001b[0m\u001b[0m\n\u001b[0;32m---> 29\u001b[0;31m             \u001b[0mcreds\u001b[0m \u001b[0;34m=\u001b[0m \u001b[0mflow\u001b[0m\u001b[0;34m.\u001b[0m\u001b[0mrun_console\u001b[0m\u001b[0;34m(\u001b[0m\u001b[0;34m)\u001b[0m\u001b[0;34m\u001b[0m\u001b[0;34m\u001b[0m\u001b[0m\n\u001b[0m\u001b[1;32m     30\u001b[0m \u001b[0;34m\u001b[0m\u001b[0m\n\u001b[1;32m     31\u001b[0m         \u001b[0;31m# Save the credentials for the next run\u001b[0m\u001b[0;34m\u001b[0m\u001b[0;34m\u001b[0m\u001b[0m\n",
            "\u001b[0;31mAttributeError\u001b[0m: 'InstalledAppFlow' object has no attribute 'run_console'"
          ]
        }
      ]
    },
    {
      "source": [
        "from google.oauth2.credentials import Credentials\n",
        "from google_auth_oauthlib.flow import InstalledAppFlow\n",
        "from googleapiclient.discovery import build\n",
        "import os\n",
        "\n",
        "# If modifying these SCOPES, delete the token.json file.\n",
        "SCOPES = ['https://www.googleapis.com/auth/gmail.readonly']\n",
        "\n",
        "\n",
        "def get_gmail_service():\n",
        "    \"\"\"Gets an authenticated Gmail API service instance.\"\"\"\n",
        "    creds = None\n",
        "    # The file token.json stores the user's access and refresh tokens, and is\n",
        "    # created automatically when the authorization flow completes for the first time.\n",
        "    if os.path.exists('token.json'):\n",
        "        creds = Credentials.from_authorized_user_file('token.json', SCOPES)\n",
        "\n",
        "    # If there are no (valid) credentials available, let the user log in.\n",
        "    if not creds or not creds.valid:\n",
        "        if creds and creds.expired and creds.refresh_token:\n",
        "            # Refresh existing token using the Request function from google.auth.transport.requests\n",
        "            # Request is required for refreshing tokens.\n",
        "            from google.auth.transport.requests import Request\n",
        "            creds.refresh(Request())\n",
        "        else:\n",
        "            flow = InstalledAppFlow.from_client_secrets_file(\n",
        "                'credentials.json', SCOPES)\n",
        "            # Use 'copy_output' instead of 'run_local_server' to avoid browser issues\n",
        "            creds = flow.run_console()\n",
        "\n",
        "        # Save the credentials for the next run\n",
        "        with open('token.json', 'w') as token:\n",
        "            token.write(creds.to_json())\n",
        "\n",
        "    service = build('gmail', 'v1', credentials=creds)\n",
        "    return service\n",
        "\n",
        "\n",
        "def get_latest_email():\n",
        "    service = get_gmail_service()\n",
        "    # Call the Gmail API to fetch the INBOX\n",
        "    results = service.users().messages().list(userId='me', labelIds=['INBOX'], maxResults=1).execute()\n",
        "    messages = results.get('messages', [])\n",
        "\n",
        "    if not messages:\n",
        "        print('No messages found.')\n",
        "    else:\n",
        "        # Fetch the message body\n",
        "        message = service.users().messages().get(userId='me', id=messages[0]['id']).execute()\n",
        "        print('Latest email fetched successfully.')\n",
        "        return message\n",
        "\n",
        "if __name__ == '__main__':\n",
        "    latest_email = get_latest_email()\n",
        "    print(latest_email)"
      ],
      "cell_type": "code",
      "metadata": {
        "colab": {
          "base_uri": "https://localhost:8080/",
          "height": 365
        },
        "id": "DJ0KRAs3tyYt",
        "outputId": "9ff2e658-b2a4-46a1-f247-c57b8ba0010c"
      },
      "execution_count": null,
      "outputs": [
        {
          "output_type": "error",
          "ename": "AttributeError",
          "evalue": "'InstalledAppFlow' object has no attribute 'run_console'",
          "traceback": [
            "\u001b[0;31m---------------------------------------------------------------------------\u001b[0m",
            "\u001b[0;31mAttributeError\u001b[0m                            Traceback (most recent call last)",
            "\u001b[0;32m<ipython-input-83-d4f588fa4bad>\u001b[0m in \u001b[0;36m<cell line: 0>\u001b[0;34m()\u001b[0m\n\u001b[1;32m     52\u001b[0m \u001b[0;34m\u001b[0m\u001b[0m\n\u001b[1;32m     53\u001b[0m \u001b[0;32mif\u001b[0m \u001b[0m__name__\u001b[0m \u001b[0;34m==\u001b[0m \u001b[0;34m'__main__'\u001b[0m\u001b[0;34m:\u001b[0m\u001b[0;34m\u001b[0m\u001b[0;34m\u001b[0m\u001b[0m\n\u001b[0;32m---> 54\u001b[0;31m     \u001b[0mlatest_email\u001b[0m \u001b[0;34m=\u001b[0m \u001b[0mget_latest_email\u001b[0m\u001b[0;34m(\u001b[0m\u001b[0;34m)\u001b[0m\u001b[0;34m\u001b[0m\u001b[0;34m\u001b[0m\u001b[0m\n\u001b[0m\u001b[1;32m     55\u001b[0m     \u001b[0mprint\u001b[0m\u001b[0;34m(\u001b[0m\u001b[0mlatest_email\u001b[0m\u001b[0;34m)\u001b[0m\u001b[0;34m\u001b[0m\u001b[0;34m\u001b[0m\u001b[0m\n",
            "\u001b[0;32m<ipython-input-83-d4f588fa4bad>\u001b[0m in \u001b[0;36mget_latest_email\u001b[0;34m()\u001b[0m\n\u001b[1;32m     38\u001b[0m \u001b[0;34m\u001b[0m\u001b[0m\n\u001b[1;32m     39\u001b[0m \u001b[0;32mdef\u001b[0m \u001b[0mget_latest_email\u001b[0m\u001b[0;34m(\u001b[0m\u001b[0;34m)\u001b[0m\u001b[0;34m:\u001b[0m\u001b[0;34m\u001b[0m\u001b[0;34m\u001b[0m\u001b[0m\n\u001b[0;32m---> 40\u001b[0;31m     \u001b[0mservice\u001b[0m \u001b[0;34m=\u001b[0m \u001b[0mget_gmail_service\u001b[0m\u001b[0;34m(\u001b[0m\u001b[0;34m)\u001b[0m\u001b[0;34m\u001b[0m\u001b[0;34m\u001b[0m\u001b[0m\n\u001b[0m\u001b[1;32m     41\u001b[0m     \u001b[0;31m# Call the Gmail API to fetch the INBOX\u001b[0m\u001b[0;34m\u001b[0m\u001b[0;34m\u001b[0m\u001b[0m\n\u001b[1;32m     42\u001b[0m     \u001b[0mresults\u001b[0m \u001b[0;34m=\u001b[0m \u001b[0mservice\u001b[0m\u001b[0;34m.\u001b[0m\u001b[0musers\u001b[0m\u001b[0;34m(\u001b[0m\u001b[0;34m)\u001b[0m\u001b[0;34m.\u001b[0m\u001b[0mmessages\u001b[0m\u001b[0;34m(\u001b[0m\u001b[0;34m)\u001b[0m\u001b[0;34m.\u001b[0m\u001b[0mlist\u001b[0m\u001b[0;34m(\u001b[0m\u001b[0muserId\u001b[0m\u001b[0;34m=\u001b[0m\u001b[0;34m'me'\u001b[0m\u001b[0;34m,\u001b[0m \u001b[0mlabelIds\u001b[0m\u001b[0;34m=\u001b[0m\u001b[0;34m[\u001b[0m\u001b[0;34m'INBOX'\u001b[0m\u001b[0;34m]\u001b[0m\u001b[0;34m,\u001b[0m \u001b[0mmaxResults\u001b[0m\u001b[0;34m=\u001b[0m\u001b[0;36m1\u001b[0m\u001b[0;34m)\u001b[0m\u001b[0;34m.\u001b[0m\u001b[0mexecute\u001b[0m\u001b[0;34m(\u001b[0m\u001b[0;34m)\u001b[0m\u001b[0;34m\u001b[0m\u001b[0;34m\u001b[0m\u001b[0m\n",
            "\u001b[0;32m<ipython-input-83-d4f588fa4bad>\u001b[0m in \u001b[0;36mget_gmail_service\u001b[0;34m()\u001b[0m\n\u001b[1;32m     27\u001b[0m                 'credentials.json', SCOPES)\n\u001b[1;32m     28\u001b[0m             \u001b[0;31m# Use 'copy_output' instead of 'run_local_server' to avoid browser issues\u001b[0m\u001b[0;34m\u001b[0m\u001b[0;34m\u001b[0m\u001b[0m\n\u001b[0;32m---> 29\u001b[0;31m             \u001b[0mcreds\u001b[0m \u001b[0;34m=\u001b[0m \u001b[0mflow\u001b[0m\u001b[0;34m.\u001b[0m\u001b[0mrun_console\u001b[0m\u001b[0;34m(\u001b[0m\u001b[0;34m)\u001b[0m\u001b[0;34m\u001b[0m\u001b[0;34m\u001b[0m\u001b[0m\n\u001b[0m\u001b[1;32m     30\u001b[0m \u001b[0;34m\u001b[0m\u001b[0m\n\u001b[1;32m     31\u001b[0m         \u001b[0;31m# Save the credentials for the next run\u001b[0m\u001b[0;34m\u001b[0m\u001b[0;34m\u001b[0m\u001b[0m\n",
            "\u001b[0;31mAttributeError\u001b[0m: 'InstalledAppFlow' object has no attribute 'run_console'"
          ]
        }
      ]
    }
  ]
}